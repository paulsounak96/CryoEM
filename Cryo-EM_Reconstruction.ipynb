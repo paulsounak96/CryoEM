{
  "nbformat": 4,
  "nbformat_minor": 0,
  "metadata": {
    "colab": {
      "name": "Openmm_NF_Combine.ipynb",
      "provenance": []
    },
    "kernelspec": {
      "name": "python3",
      "display_name": "Python 3"
    },
    "language_info": {
      "name": "python"
    },
    "accelerator": "GPU"
  },
  "cells": [
    {
      "cell_type": "markdown",
      "source": [
        "# Install and import packages"
      ],
      "metadata": {
        "id": "2l5znmNanfoB"
      }
    },
    {
      "cell_type": "code",
      "source": [
        "# Install normflow (takes approx 8 seconds to run)\n",
        "!pip install --upgrade git+https://github.com/VincentStimper/normalizing-flows.git"
      ],
      "metadata": {
        "colab": {
          "base_uri": "https://localhost:8080/"
        },
        "id": "0XpDQw5B9Qyi",
        "outputId": "74df4360-b8df-41b3-f181-0870bfdc8ef7"
      },
      "execution_count": 1,
      "outputs": [
        {
          "output_type": "stream",
          "name": "stdout",
          "text": [
            "Collecting git+https://github.com/VincentStimper/normalizing-flows.git\n",
            "  Cloning https://github.com/VincentStimper/normalizing-flows.git to /tmp/pip-req-build-olgeol2e\n",
            "  Running command git clone -q https://github.com/VincentStimper/normalizing-flows.git /tmp/pip-req-build-olgeol2e\n",
            "Collecting residual-flows@ git+https://github.com/VincentStimper/residual-flows.git\n",
            "  Cloning https://github.com/VincentStimper/residual-flows.git to /tmp/pip-install-ixgjamq4/residual-flows_323e57998ef648b5becb12de4ae8c70b\n",
            "  Running command git clone -q https://github.com/VincentStimper/residual-flows.git /tmp/pip-install-ixgjamq4/residual-flows_323e57998ef648b5becb12de4ae8c70b\n",
            "Requirement already satisfied: numpy in /usr/local/lib/python3.7/dist-packages (from normflow==1.2) (1.21.6)\n",
            "Requirement already satisfied: torch in /usr/local/lib/python3.7/dist-packages (from normflow==1.2) (1.11.0+cu113)\n",
            "Requirement already satisfied: typing-extensions in /usr/local/lib/python3.7/dist-packages (from torch->normflow==1.2) (4.2.0)\n",
            "Building wheels for collected packages: normflow, residual-flows\n",
            "  Building wheel for normflow (setup.py) ... \u001b[?25l\u001b[?25hdone\n",
            "  Created wheel for normflow: filename=normflow-1.2-py2.py3-none-any.whl size=60862 sha256=6e96a7064a986fa2992a466d119818022c6407fe2c6b78f483a8c788da93f8cd\n",
            "  Stored in directory: /tmp/pip-ephem-wheel-cache-n5iallog/wheels/d9/40/c8/9ac98610e01d078086ad1abd95cd552ce5eef5bec50c647dd5\n",
            "  Building wheel for residual-flows (setup.py) ... \u001b[?25l\u001b[?25hdone\n",
            "  Created wheel for residual-flows: filename=residual_flows-1.0-py2.py3-none-any.whl size=36203 sha256=53fba710a1a766f5bf3ffc88a175bfd60917fcd8fd524b16b5056e7fe3cacdf8\n",
            "  Stored in directory: /tmp/pip-ephem-wheel-cache-n5iallog/wheels/93/68/77/4d39144b811530978eb70c6638b62ef046c36ede40dcb55272\n",
            "Successfully built normflow residual-flows\n",
            "Installing collected packages: residual-flows, normflow\n",
            "Successfully installed normflow-1.2 residual-flows-1.0\n"
          ]
        }
      ]
    },
    {
      "cell_type": "code",
      "source": [
        "# Install Openmm (takes approx 5 minutes to run)\n",
        "import sys\n",
        "print(sys.version)\n",
        "!wget https://repo.anaconda.com/miniconda/Miniconda3-py37_4.10.3-Linux-x86_64.sh\n",
        "!bash Miniconda3-py*.sh -bfp /usr/local\n",
        "!conda config --set always_yes yes\n",
        "!conda config --add channels conda-forge\n",
        "!conda create -n openmm python=3.7 cudatoolkit=10.0 git jupyterlab matplotlib ipympl rdkit openbabel openmm mdtraj pymbar pdbfixer parmed openff-toolkit openmoltools openmmforcefields\n",
        "sys.path.append('/usr/local/envs/openmm/lib/python3.7/site-packages')\n",
        "import openmm.testInstallation\n",
        "openmm.testInstallation.main()"
      ],
      "metadata": {
        "id": "Hsqnbj7NpBGD",
        "colab": {
          "base_uri": "https://localhost:8080/"
        },
        "outputId": "690cdfc1-13db-49d5-8736-70e211a8bb9f"
      },
      "execution_count": 2,
      "outputs": [
        {
          "output_type": "stream",
          "name": "stdout",
          "text": [
            "3.7.13 (default, Apr 24 2022, 01:04:09) \n",
            "[GCC 7.5.0]\n",
            "--2022-05-10 03:04:55--  https://repo.anaconda.com/miniconda/Miniconda3-py37_4.10.3-Linux-x86_64.sh\n",
            "Resolving repo.anaconda.com (repo.anaconda.com)... 104.16.130.3, 104.16.131.3, 2606:4700::6810:8303, ...\n",
            "Connecting to repo.anaconda.com (repo.anaconda.com)|104.16.130.3|:443... connected.\n",
            "HTTP request sent, awaiting response... 200 OK\n",
            "Length: 89026327 (85M) [application/x-sh]\n",
            "Saving to: ‘Miniconda3-py37_4.10.3-Linux-x86_64.sh’\n",
            "\n",
            "Miniconda3-py37_4.1 100%[===================>]  84.90M   183MB/s    in 0.5s    \n",
            "\n",
            "2022-05-10 03:04:56 (183 MB/s) - ‘Miniconda3-py37_4.10.3-Linux-x86_64.sh’ saved [89026327/89026327]\n",
            "\n",
            "PREFIX=/usr/local\n",
            "Unpacking payload ...\n",
            "Collecting package metadata (current_repodata.json): - \b\b\\ \b\b| \b\bdone\n",
            "Solving environment: - \b\b\\ \b\b| \b\b/ \b\bdone\n",
            "\n",
            "## Package Plan ##\n",
            "\n",
            "  environment location: /usr/local\n",
            "\n",
            "  added / updated specs:\n",
            "    - _libgcc_mutex==0.1=main\n",
            "    - _openmp_mutex==4.5=1_gnu\n",
            "    - brotlipy==0.7.0=py37h27cfd23_1003\n",
            "    - ca-certificates==2021.7.5=h06a4308_1\n",
            "    - certifi==2021.5.30=py37h06a4308_0\n",
            "    - cffi==1.14.6=py37h400218f_0\n",
            "    - chardet==4.0.0=py37h06a4308_1003\n",
            "    - conda-package-handling==1.7.3=py37h27cfd23_1\n",
            "    - conda==4.10.3=py37h06a4308_0\n",
            "    - cryptography==3.4.7=py37hd23ed53_0\n",
            "    - idna==2.10=pyhd3eb1b0_0\n",
            "    - ld_impl_linux-64==2.35.1=h7274673_9\n",
            "    - libffi==3.3=he6710b0_2\n",
            "    - libgcc-ng==9.3.0=h5101ec6_17\n",
            "    - libgomp==9.3.0=h5101ec6_17\n",
            "    - libstdcxx-ng==9.3.0=hd4cf53a_17\n",
            "    - ncurses==6.2=he6710b0_1\n",
            "    - openssl==1.1.1k=h27cfd23_0\n",
            "    - pip==21.1.3=py37h06a4308_0\n",
            "    - pycosat==0.6.3=py37h27cfd23_0\n",
            "    - pycparser==2.20=py_2\n",
            "    - pyopenssl==20.0.1=pyhd3eb1b0_1\n",
            "    - pysocks==1.7.1=py37_1\n",
            "    - python==3.7.10=h12debd9_4\n",
            "    - readline==8.1=h27cfd23_0\n",
            "    - requests==2.25.1=pyhd3eb1b0_0\n",
            "    - ruamel_yaml==0.15.100=py37h27cfd23_0\n",
            "    - setuptools==52.0.0=py37h06a4308_0\n",
            "    - six==1.16.0=pyhd3eb1b0_0\n",
            "    - sqlite==3.36.0=hc218d9a_0\n",
            "    - tk==8.6.10=hbc83047_0\n",
            "    - tqdm==4.61.2=pyhd3eb1b0_1\n",
            "    - urllib3==1.26.6=pyhd3eb1b0_1\n",
            "    - wheel==0.36.2=pyhd3eb1b0_0\n",
            "    - xz==5.2.5=h7b6447c_0\n",
            "    - yaml==0.2.5=h7b6447c_0\n",
            "    - zlib==1.2.11=h7b6447c_3\n",
            "\n",
            "\n",
            "The following NEW packages will be INSTALLED:\n",
            "\n",
            "  _libgcc_mutex      pkgs/main/linux-64::_libgcc_mutex-0.1-main\n",
            "  _openmp_mutex      pkgs/main/linux-64::_openmp_mutex-4.5-1_gnu\n",
            "  brotlipy           pkgs/main/linux-64::brotlipy-0.7.0-py37h27cfd23_1003\n",
            "  ca-certificates    pkgs/main/linux-64::ca-certificates-2021.7.5-h06a4308_1\n",
            "  certifi            pkgs/main/linux-64::certifi-2021.5.30-py37h06a4308_0\n",
            "  cffi               pkgs/main/linux-64::cffi-1.14.6-py37h400218f_0\n",
            "  chardet            pkgs/main/linux-64::chardet-4.0.0-py37h06a4308_1003\n",
            "  conda              pkgs/main/linux-64::conda-4.10.3-py37h06a4308_0\n",
            "  conda-package-han~ pkgs/main/linux-64::conda-package-handling-1.7.3-py37h27cfd23_1\n",
            "  cryptography       pkgs/main/linux-64::cryptography-3.4.7-py37hd23ed53_0\n",
            "  idna               pkgs/main/noarch::idna-2.10-pyhd3eb1b0_0\n",
            "  ld_impl_linux-64   pkgs/main/linux-64::ld_impl_linux-64-2.35.1-h7274673_9\n",
            "  libffi             pkgs/main/linux-64::libffi-3.3-he6710b0_2\n",
            "  libgcc-ng          pkgs/main/linux-64::libgcc-ng-9.3.0-h5101ec6_17\n",
            "  libgomp            pkgs/main/linux-64::libgomp-9.3.0-h5101ec6_17\n",
            "  libstdcxx-ng       pkgs/main/linux-64::libstdcxx-ng-9.3.0-hd4cf53a_17\n",
            "  ncurses            pkgs/main/linux-64::ncurses-6.2-he6710b0_1\n",
            "  openssl            pkgs/main/linux-64::openssl-1.1.1k-h27cfd23_0\n",
            "  pip                pkgs/main/linux-64::pip-21.1.3-py37h06a4308_0\n",
            "  pycosat            pkgs/main/linux-64::pycosat-0.6.3-py37h27cfd23_0\n",
            "  pycparser          pkgs/main/noarch::pycparser-2.20-py_2\n",
            "  pyopenssl          pkgs/main/noarch::pyopenssl-20.0.1-pyhd3eb1b0_1\n",
            "  pysocks            pkgs/main/linux-64::pysocks-1.7.1-py37_1\n",
            "  python             pkgs/main/linux-64::python-3.7.10-h12debd9_4\n",
            "  readline           pkgs/main/linux-64::readline-8.1-h27cfd23_0\n",
            "  requests           pkgs/main/noarch::requests-2.25.1-pyhd3eb1b0_0\n",
            "  ruamel_yaml        pkgs/main/linux-64::ruamel_yaml-0.15.100-py37h27cfd23_0\n",
            "  setuptools         pkgs/main/linux-64::setuptools-52.0.0-py37h06a4308_0\n",
            "  six                pkgs/main/noarch::six-1.16.0-pyhd3eb1b0_0\n",
            "  sqlite             pkgs/main/linux-64::sqlite-3.36.0-hc218d9a_0\n",
            "  tk                 pkgs/main/linux-64::tk-8.6.10-hbc83047_0\n",
            "  tqdm               pkgs/main/noarch::tqdm-4.61.2-pyhd3eb1b0_1\n",
            "  urllib3            pkgs/main/noarch::urllib3-1.26.6-pyhd3eb1b0_1\n",
            "  wheel              pkgs/main/noarch::wheel-0.36.2-pyhd3eb1b0_0\n",
            "  xz                 pkgs/main/linux-64::xz-5.2.5-h7b6447c_0\n",
            "  yaml               pkgs/main/linux-64::yaml-0.2.5-h7b6447c_0\n",
            "  zlib               pkgs/main/linux-64::zlib-1.2.11-h7b6447c_3\n",
            "\n",
            "\n",
            "Preparing transaction: \\ \b\b| \b\b/ \b\b- \b\bdone\n",
            "Executing transaction: | \b\b/ \b\b- \b\b\\ \b\b| \b\b/ \b\b- \b\b\\ \b\b| \b\b/ \b\b- \b\b\\ \b\b| \b\b/ \b\b- \b\b\\ \b\bdone\n",
            "installation finished.\n",
            "WARNING:\n",
            "    You currently have a PYTHONPATH environment variable set. This may cause\n",
            "    unexpected behavior when running the Python interpreter in Miniconda3.\n",
            "    For best results, please verify that your PYTHONPATH only points to\n",
            "    directories of packages that are compatible with the Python interpreter\n",
            "    in Miniconda3: /usr/local\n",
            "Collecting package metadata (current_repodata.json): - \b\b\\ \b\b| \b\b/ \b\b- \b\b\\ \b\b| \b\b/ \b\b- \b\b\\ \b\b| \b\b/ \b\b- \b\b\\ \b\b| \b\b/ \b\b- \b\b\\ \b\b| \b\b/ \b\b- \b\b\\ \b\b| \b\b/ \b\b- \b\b\\ \b\b| \b\b/ \b\b- \b\b\\ \b\b| \b\b/ \b\b- \b\b\\ \b\b| \b\b/ \b\b- \b\b\\ \b\b| \b\b/ \b\b- \b\b\\ \b\b| \b\b/ \b\b- \b\b\\ \b\b| \b\b/ \b\b- \b\b\\ \b\b| \b\b/ \b\b- \b\b\\ \b\b| \b\b/ \b\b- \b\b\\ \b\b| \b\b/ \b\b- \b\b\\ \b\b| \b\b/ \b\b- \b\b\\ \b\b| \b\b/ \b\b- \b\b\\ \b\b| \b\b/ \b\b- \b\b\\ \b\b| \b\b/ \b\b- \b\b\\ \b\b| \b\b/ \b\b- \b\b\\ \b\b| \b\b/ \b\b- \b\b\\ \b\b| \b\b/ \b\b- \b\b\\ \b\b| \b\b/ \b\b- \b\b\\ \b\b| \b\b/ \b\b- \b\b\\ \b\b| \b\b/ \b\b- \b\b\\ \b\b| \b\b/ \b\b- \b\b\\ \b\b| \b\b/ \b\b- \b\b\\ \b\b| \b\b/ \b\b- \b\b\\ \b\b| \b\b/ \b\b- \b\b\\ \b\b| \b\b/ \b\b- \b\b\\ \b\b| \b\b/ \b\b- \b\b\\ \b\b| \b\b/ \b\b- \b\bdone\n",
            "Solving environment: | \b\b/ \b\b- \b\b\\ \b\b| \b\b/ \b\b- \b\b\\ \b\b| \b\b/ \b\b- \b\b\\ \b\b| \b\b/ \b\b- \b\b\\ \b\b| \b\b/ \b\b- \b\b\\ \b\b| \b\b/ \b\b- \b\b\\ \b\b| \b\b/ \b\b- \b\b\\ \b\b| \b\b/ \b\b- \b\b\\ \b\b| \b\b/ \b\b- \b\b\\ \b\b| \b\b/ \b\b- \b\b\\ \b\b| \b\b/ \b\b- \b\b\\ \b\b| \b\b/ \b\b- \b\b\\ \b\b| \b\b/ \b\b- \b\b\\ \b\b| \b\b/ \b\b- \b\b\\ \b\b| \b\b/ \b\b- \b\b\\ \b\b| \b\b/ \b\b- \b\b\\ \b\b| \b\b/ \b\b- \b\b\\ \b\b| \b\b/ \b\b- \b\b\\ \b\b| \b\b/ \b\b- \b\b\\ \b\b| \b\b/ \b\b- \b\b\\ \b\b| \b\b/ \b\b- \b\b\\ \b\b| \b\b/ \b\b- \b\b\\ \b\b| \b\b/ \b\b- \b\b\\ \b\b| \b\b/ \b\b- \b\b\\ \b\b| \b\b/ \b\b- \b\b\\ \b\b| \b\b/ \b\b- \b\b\\ \b\b| \b\b/ \b\bdone\n",
            "\n",
            "\n",
            "==> WARNING: A newer version of conda exists. <==\n",
            "  current version: 4.10.3\n",
            "  latest version: 4.12.0\n",
            "\n",
            "Please update conda by running\n",
            "\n",
            "    $ conda update -n base -c defaults conda\n",
            "\n",
            "\n",
            "\n",
            "## Package Plan ##\n",
            "\n",
            "  environment location: /usr/local/envs/openmm\n",
            "\n",
            "  added / updated specs:\n",
            "    - cudatoolkit=10.0\n",
            "    - git\n",
            "    - ipympl\n",
            "    - jupyterlab\n",
            "    - matplotlib\n",
            "    - mdtraj\n",
            "    - openbabel\n",
            "    - openff-toolkit\n",
            "    - openmm\n",
            "    - openmmforcefields\n",
            "    - openmoltools\n",
            "    - parmed\n",
            "    - pdbfixer\n",
            "    - pymbar\n",
            "    - python=3.7\n",
            "    - rdkit\n",
            "\n",
            "\n",
            "The following packages will be downloaded:\n",
            "\n",
            "    package                    |            build\n",
            "    ---------------------------|-----------------\n",
            "    _libgcc_mutex-0.1          |      conda_forge           3 KB  conda-forge\n",
            "    _openmp_mutex-4.5          |            2_gnu          23 KB  conda-forge\n",
            "    alabaster-0.7.12           |             py_0          15 KB  conda-forge\n",
            "    alsa-lib-1.2.3.2           |       h166bdaf_0         554 KB  conda-forge\n",
            "    ambertools-22.0            |   py37ha6f76a1_0       102.0 MB  conda-forge\n",
            "    anyio-3.5.0                |   py37h89c1867_0         150 KB  conda-forge\n",
            "    argon2-cffi-21.3.0         |     pyhd8ed1ab_0          15 KB  conda-forge\n",
            "    argon2-cffi-bindings-21.2.0|   py37h540881e_2          34 KB  conda-forge\n",
            "    arpack-3.7.0               |       hdefa2d7_2         215 KB  conda-forge\n",
            "    astunparse-1.6.3           |     pyhd8ed1ab_0          15 KB  conda-forge\n",
            "    attrs-21.4.0               |     pyhd8ed1ab_0          49 KB  conda-forge\n",
            "    babel-2.10.1               |     pyhd8ed1ab_0         6.7 MB  conda-forge\n",
            "    backcall-0.2.0             |     pyh9f0ad1d_0          13 KB  conda-forge\n",
            "    backports-1.0              |             py_2           4 KB  conda-forge\n",
            "    backports.functools_lru_cache-1.6.4|     pyhd8ed1ab_0           9 KB  conda-forge\n",
            "    beautifulsoup4-4.11.1      |     pyha770c72_0          96 KB  conda-forge\n",
            "    bleach-5.0.0               |     pyhd8ed1ab_0         123 KB  conda-forge\n",
            "    blosc-1.21.1               |       h56a5e14_1          65 KB  conda-forge\n",
            "    boost-1.74.0               |   py37h796e4cb_5         342 KB  conda-forge\n",
            "    boost-cpp-1.74.0           |       h312852a_4        16.3 MB  conda-forge\n",
            "    brotli-1.0.9               |       h166bdaf_7          18 KB  conda-forge\n",
            "    brotli-bin-1.0.9           |       h166bdaf_7          19 KB  conda-forge\n",
            "    brotlipy-0.7.0             |py37h540881e_1004         342 KB  conda-forge\n",
            "    bzip2-1.0.8                |       h7f98852_4         484 KB  conda-forge\n",
            "    c-ares-1.18.1              |       h7f98852_0         113 KB  conda-forge\n",
            "    ca-certificates-2021.10.8  |       ha878542_0         139 KB  conda-forge\n",
            "    cairo-1.16.0               |    h6cf1ce9_1008         1.5 MB  conda-forge\n",
            "    certifi-2021.10.8          |   py37h89c1867_2         145 KB  conda-forge\n",
            "    cffi-1.15.0                |   py37h036bc23_0         225 KB  conda-forge\n",
            "    charset-normalizer-2.0.12  |     pyhd8ed1ab_0          35 KB  conda-forge\n",
            "    colorama-0.4.4             |     pyh9f0ad1d_0          18 KB  conda-forge\n",
            "    cryptography-36.0.2        |   py37h38fbfac_1         1.6 MB  conda-forge\n",
            "    cudatoolkit-10.0.130       |      hf841e97_10       336.5 MB  conda-forge\n",
            "    curl-7.83.0                |       h7bff187_0          89 KB  conda-forge\n",
            "    cycler-0.11.0              |     pyhd8ed1ab_0          10 KB  conda-forge\n",
            "    cython-0.29.28             |   py37hd23a5d3_2         2.1 MB  conda-forge\n",
            "    dbus-1.13.6                |       h5008d03_3         604 KB  conda-forge\n",
            "    debugpy-1.6.0              |   py37hd23a5d3_0         2.0 MB  conda-forge\n",
            "    decorator-4.4.2            |             py_0          11 KB  conda-forge\n",
            "    defusedxml-0.7.1           |     pyhd8ed1ab_0          23 KB  conda-forge\n",
            "    docutils-0.15.2            |   py37h89c1867_3         733 KB  conda-forge\n",
            "    entrypoints-0.4            |     pyhd8ed1ab_0           9 KB  conda-forge\n",
            "    expat-2.4.8                |       h27087fc_0         187 KB  conda-forge\n",
            "    fftw-3.3.10                |nompi_h77c792f_102         6.4 MB  conda-forge\n",
            "    flit-core-3.7.1            |     pyhd8ed1ab_0          44 KB  conda-forge\n",
            "    fontconfig-2.14.0          |       h8e229c2_0         305 KB  conda-forge\n",
            "    fonttools-4.33.3           |   py37h540881e_0         1.6 MB  conda-forge\n",
            "    freetype-2.10.4            |       h0708190_1         890 KB  conda-forge\n",
            "    gettext-0.19.8.1           |    h73d1719_1008         3.6 MB  conda-forge\n",
            "    giflib-5.2.1               |       h36c2ea0_2          77 KB  conda-forge\n",
            "    git-2.35.3                 | pl5321h36853c3_0        13.4 MB  conda-forge\n",
            "    greenlet-1.1.2             |   py37hd23a5d3_2          90 KB  conda-forge\n",
            "    gst-plugins-base-1.18.5    |       hf529b03_3         2.6 MB  conda-forge\n",
            "    gstreamer-1.18.5           |       h9f60fe5_3         2.0 MB  conda-forge\n",
            "    hdf4-4.2.15                |       h10796ff_3         950 KB  conda-forge\n",
            "    hdf5-1.12.1                |nompi_h2386368_104         3.5 MB  conda-forge\n",
            "    icu-68.2                   |       h9c3ff4c_0        13.1 MB  conda-forge\n",
            "    idna-3.3                   |     pyhd8ed1ab_0          55 KB  conda-forge\n",
            "    imagesize-1.3.0            |     pyhd8ed1ab_0           9 KB  conda-forge\n",
            "    importlib-metadata-4.11.3  |   py37h89c1867_1          33 KB  conda-forge\n",
            "    importlib_metadata-4.11.3  |       hd8ed1ab_1           4 KB  conda-forge\n",
            "    importlib_resources-5.7.1  |     pyhd8ed1ab_0          22 KB  conda-forge\n",
            "    ipykernel-6.13.0           |   py37h25bab4e_0         185 KB  conda-forge\n",
            "    ipympl-0.9.1               |     pyhd8ed1ab_0         347 KB  conda-forge\n",
            "    ipython-7.33.0             |   py37h89c1867_0         1.1 MB  conda-forge\n",
            "    ipython_genutils-0.2.0     |             py_1          21 KB  conda-forge\n",
            "    ipywidgets-7.7.0           |     pyhd8ed1ab_0         103 KB  conda-forge\n",
            "    jbig-2.1                   |    h7f98852_2003          43 KB  conda-forge\n",
            "    jedi-0.18.1                |   py37h89c1867_1        1008 KB  conda-forge\n",
            "    jinja2-3.0.3               |     pyhd8ed1ab_0          99 KB  conda-forge\n",
            "    jpeg-9e                    |       h166bdaf_1         268 KB  conda-forge\n",
            "    json5-0.9.5                |     pyh9f0ad1d_0          20 KB  conda-forge\n",
            "    jsonschema-4.5.1           |     pyhd8ed1ab_0          57 KB  conda-forge\n",
            "    jupyter_client-7.3.1       |     pyhd8ed1ab_0          90 KB  conda-forge\n",
            "    jupyter_core-4.9.2         |   py37h89c1867_0          80 KB  conda-forge\n",
            "    jupyter_server-1.17.0      |     pyhd8ed1ab_0         238 KB  conda-forge\n",
            "    jupyterlab-3.4.0           |     pyhd8ed1ab_0         5.9 MB  conda-forge\n",
            "    jupyterlab_pygments-0.2.2  |     pyhd8ed1ab_0          17 KB  conda-forge\n",
            "    jupyterlab_server-2.13.0   |     pyhd8ed1ab_1          49 KB  conda-forge\n",
            "    jupyterlab_widgets-1.1.0   |     pyhd8ed1ab_0         133 KB  conda-forge\n",
            "    keyutils-1.6.1             |       h166bdaf_0         115 KB  conda-forge\n",
            "    kiwisolver-1.4.2           |   py37h7cecad7_1          73 KB  conda-forge\n",
            "    krb5-1.19.3                |       h3790be6_0         1.4 MB  conda-forge\n",
            "    lcms2-2.12                 |       hddcbb42_0         443 KB  conda-forge\n",
            "    ld_impl_linux-64-2.36.1    |       hea4e1c9_2         667 KB  conda-forge\n",
            "    lerc-3.0                   |       h9c3ff4c_0         216 KB  conda-forge\n",
            "    libblas-3.9.0              |14_linux64_openblas          12 KB  conda-forge\n",
            "    libbrotlicommon-1.0.9      |       h166bdaf_7          65 KB  conda-forge\n",
            "    libbrotlidec-1.0.9         |       h166bdaf_7          33 KB  conda-forge\n",
            "    libbrotlienc-1.0.9         |       h166bdaf_7         287 KB  conda-forge\n",
            "    libcblas-3.9.0             |14_linux64_openblas          12 KB  conda-forge\n",
            "    libclang-11.1.0            |default_ha53f305_1        19.2 MB  conda-forge\n",
            "    libcurl-7.83.0             |       h7bff187_0         342 KB  conda-forge\n",
            "    libdeflate-1.10            |       h7f98852_0          77 KB  conda-forge\n",
            "    libedit-3.1.20191231       |       he28a2e2_2         121 KB  conda-forge\n",
            "    libev-4.33                 |       h516909a_1         104 KB  conda-forge\n",
            "    libevent-2.1.10            |       h9b69904_4         1.1 MB  conda-forge\n",
            "    libffi-3.4.2               |       h7f98852_5          57 KB  conda-forge\n",
            "    libgcc-ng-11.2.0           |      h1d223b6_16         902 KB  conda-forge\n",
            "    libgfortran-ng-11.2.0      |      h69a702a_16          23 KB  conda-forge\n",
            "    libgfortran5-11.2.0        |      h5c6108e_16         1.7 MB  conda-forge\n",
            "    libglib-2.70.2             |       h174f98d_4         3.1 MB  conda-forge\n",
            "    libgomp-11.2.0             |      h1d223b6_16         428 KB  conda-forge\n",
            "    libiconv-1.16              |       h516909a_0         1.4 MB  conda-forge\n",
            "    liblapack-3.9.0            |14_linux64_openblas          12 KB  conda-forge\n",
            "    libllvm11-11.1.0           |       hf817b99_3        29.1 MB  conda-forge\n",
            "    libnetcdf-4.8.1            |nompi_h329d8a1_102         1.5 MB  conda-forge\n",
            "    libnghttp2-1.47.0          |       h727a467_0         808 KB  conda-forge\n",
            "    libnsl-2.0.0               |       h7f98852_0          31 KB  conda-forge\n",
            "    libogg-1.3.4               |       h7f98852_1         206 KB  conda-forge\n",
            "    libopenblas-0.3.20         |pthreads_h78a6416_0        10.1 MB  conda-forge\n",
            "    libopus-1.3.1              |       h7f98852_1         255 KB  conda-forge\n",
            "    libpng-1.6.37              |       h21135ba_2         306 KB  conda-forge\n",
            "    libpq-13.5                 |       hd57d9b9_1         2.8 MB  conda-forge\n",
            "    libsodium-1.0.18           |       h36c2ea0_1         366 KB  conda-forge\n",
            "    libssh2-1.10.0             |       ha56f1ee_2         233 KB  conda-forge\n",
            "    libstdcxx-ng-11.2.0        |      he4da1e4_16         4.2 MB  conda-forge\n",
            "    libtiff-4.3.0              |       h542a066_3         638 KB  conda-forge\n",
            "    libuuid-2.32.1             |    h7f98852_1000          28 KB  conda-forge\n",
            "    libvorbis-1.3.7            |       h9c3ff4c_0         280 KB  conda-forge\n",
            "    libwebp-1.2.2              |       h3452ae3_0          85 KB  conda-forge\n",
            "    libwebp-base-1.2.2         |       h7f98852_1         824 KB  conda-forge\n",
            "    libxcb-1.13                |    h7f98852_1004         391 KB  conda-forge\n",
            "    libxkbcommon-1.0.3         |       he3ba5ed_0         581 KB  conda-forge\n",
            "    libxml2-2.9.10             |       h72842e0_4         774 KB  conda-forge\n",
            "    libxslt-1.1.33             |       h15afd5d_2         522 KB  conda-forge\n",
            "    libzip-1.8.0               |       h4de3113_1         126 KB  conda-forge\n",
            "    libzlib-1.2.11             |    h166bdaf_1014          60 KB  conda-forge\n",
            "    lxml-4.8.0                 |   py37h540881e_3         1.4 MB  conda-forge\n",
            "    lz4-c-1.9.3                |       h9c3ff4c_1         179 KB  conda-forge\n",
            "    lzo-2.10                   |    h516909a_1000         314 KB  conda-forge\n",
            "    markupsafe-2.1.1           |   py37h540881e_1          22 KB  conda-forge\n",
            "    matplotlib-3.5.2           |   py37h89c1867_0           6 KB  conda-forge\n",
            "    matplotlib-base-3.5.2      |   py37hc347a89_0         7.3 MB  conda-forge\n",
            "    matplotlib-inline-0.1.3    |     pyhd8ed1ab_0          11 KB  conda-forge\n",
            "    mdtraj-1.9.7               |   py37h527cbdb_1         1.8 MB  conda-forge\n",
            "    mistune-0.8.4              |py37h5e8e339_1005          54 KB  conda-forge\n",
            "    munkres-1.1.4              |     pyh9f0ad1d_0          12 KB  conda-forge\n",
            "    mysql-common-8.0.29        |       haf5c9bc_0         1.8 MB  conda-forge\n",
            "    mysql-libs-8.0.29          |       h28c427c_0         1.9 MB  conda-forge\n",
            "    nbclassic-0.3.7            |     pyhd8ed1ab_0          14 KB  conda-forge\n",
            "    nbclient-0.6.2             |     pyhd8ed1ab_0          64 KB  conda-forge\n",
            "    nbconvert-6.5.0            |     pyhd8ed1ab_0           6 KB  conda-forge\n",
            "    nbconvert-core-6.5.0       |     pyhd8ed1ab_0         425 KB  conda-forge\n",
            "    nbconvert-pandoc-6.5.0     |     pyhd8ed1ab_0           4 KB  conda-forge\n",
            "    nbformat-5.4.0             |     pyhd8ed1ab_0         104 KB  conda-forge\n",
            "    ncurses-6.3                |       h27087fc_1        1002 KB  conda-forge\n",
            "    nest-asyncio-1.5.5         |     pyhd8ed1ab_0           9 KB  conda-forge\n",
            "    netcdf-fortran-4.5.4       |nompi_h2b6e579_100         1.3 MB  conda-forge\n",
            "    networkx-2.5.1             |     pyhd8ed1ab_0         1.2 MB  conda-forge\n",
            "    nomkl-1.0                  |       h5ca1d4c_0           4 KB  conda-forge\n",
            "    notebook-6.4.11            |     pyha770c72_0         6.3 MB  conda-forge\n",
            "    notebook-shim-0.1.0        |     pyhd8ed1ab_0          15 KB  conda-forge\n",
            "    nspr-4.32                  |       h9c3ff4c_1         233 KB  conda-forge\n",
            "    nss-3.77                   |       h2350873_0         2.1 MB  conda-forge\n",
            "    numexpr-2.8.0              | py37h85a3170_102         133 KB  conda-forge\n",
            "    numpy-1.21.6               |   py37h976b520_0         6.1 MB  conda-forge\n",
            "    numpydoc-1.3.1             |     pyhd8ed1ab_0          45 KB  conda-forge\n",
            "    ocl-icd-2.3.1              |       h7f98852_0         119 KB  conda-forge\n",
            "    ocl-icd-system-1.0.0       |                1           4 KB  conda-forge\n",
            "    openbabel-3.1.1            |   py37h200e996_1         5.5 MB  conda-forge\n",
            "    openff-forcefields-2.0.0   |     pyh6c4a22f_0         100 KB  conda-forge\n",
            "    openff-toolkit-0.10.6      |     pyhd8ed1ab_0           6 KB  conda-forge\n",
            "    openff-toolkit-base-0.10.6 |     pyhd8ed1ab_0        28.3 MB  conda-forge\n",
            "    openjpeg-2.4.0             |       hb52868f_1         444 KB  conda-forge\n",
            "    openmm-7.6.0               |   py37h0eafe0f_0        10.9 MB  conda-forge\n",
            "    openmmforcefields-0.11.0   |     pyhd8ed1ab_0         2.7 MB  conda-forge\n",
            "    openmoltools-0.8.8         |     pyhd8ed1ab_1         4.3 MB  conda-forge\n",
            "    openssl-1.1.1o             |       h166bdaf_0         2.1 MB  conda-forge\n",
            "    packaging-21.3             |     pyhd8ed1ab_0          36 KB  conda-forge\n",
            "    packmol-20.010             |       h86c2bf4_0         129 KB  conda-forge\n",
            "    pandas-1.3.4               |   py37he8f5f7f_1        12.7 MB  conda-forge\n",
            "    pandoc-2.18                |       ha770c72_0        12.5 MB  conda-forge\n",
            "    pandocfilters-1.5.0        |     pyhd8ed1ab_0          11 KB  conda-forge\n",
            "    parmed-3.4.3               |   py37hd23a5d3_2         974 KB  conda-forge\n",
            "    parso-0.8.3                |     pyhd8ed1ab_0          69 KB  conda-forge\n",
            "    pcre-8.45                  |       h9c3ff4c_0         253 KB  conda-forge\n",
            "    pcre2-10.37                |       h032f7d1_0         1.1 MB  conda-forge\n",
            "    pdbfixer-1.8.1             |     pyh6c4a22f_0         498 KB  conda-forge\n",
            "    perl-5.32.1                | 2_h7f98852_perl5        14.4 MB  conda-forge\n",
            "    pexpect-4.8.0              |     pyh9f0ad1d_2          47 KB  conda-forge\n",
            "    pickleshare-0.7.5          |          py_1003           9 KB  conda-forge\n",
            "    pillow-9.1.0               |   py37h44f0d7a_2        44.7 MB  conda-forge\n",
            "    pip-22.0.4                 |     pyhd8ed1ab_0         1.5 MB  conda-forge\n",
            "    pixman-0.40.0              |       h36c2ea0_0         627 KB  conda-forge\n",
            "    prometheus_client-0.14.1   |     pyhd8ed1ab_0          49 KB  conda-forge\n",
            "    prompt-toolkit-3.0.29      |     pyha770c72_0         252 KB  conda-forge\n",
            "    psutil-5.9.0               |   py37h540881e_1         342 KB  conda-forge\n",
            "    pthread-stubs-0.4          |    h36c2ea0_1001           5 KB  conda-forge\n",
            "    ptyprocess-0.7.0           |     pyhd3deb0d_0          16 KB  conda-forge\n",
            "    pycairo-1.21.0             |   py37h0afab05_1         116 KB  conda-forge\n",
            "    pycparser-2.21             |     pyhd8ed1ab_0         100 KB  conda-forge\n",
            "    pygments-2.12.0            |     pyhd8ed1ab_0         817 KB  conda-forge\n",
            "    pymbar-3.0.6               |   py37hda87dfa_0         119 KB  conda-forge\n",
            "    pyopenssl-22.0.0           |     pyhd8ed1ab_0          49 KB  conda-forge\n",
            "    pyparsing-3.0.8            |     pyhd8ed1ab_0          79 KB  conda-forge\n",
            "    pyqt-5.12.3                |   py37h89c1867_8          22 KB  conda-forge\n",
            "    pyqt-impl-5.12.3           |   py37hac37412_8         5.9 MB  conda-forge\n",
            "    pyqt5-sip-4.19.18          |   py37hcd2ae1e_8         310 KB  conda-forge\n",
            "    pyqtchart-5.12             |   py37he336c9b_8         257 KB  conda-forge\n",
            "    pyqtwebengine-5.12.1       |   py37he336c9b_8         175 KB  conda-forge\n",
            "    pyrsistent-0.18.1          |   py37h540881e_1          91 KB  conda-forge\n",
            "    pysocks-1.7.1              |   py37h89c1867_5          28 KB  conda-forge\n",
            "    pytables-3.7.0             |   py37h5dea08b_0         2.0 MB  conda-forge\n",
            "    python-3.7.12              |hb7a2778_100_cpython        57.3 MB  conda-forge\n",
            "    python-constraint-1.4.0    |             py_0          21 KB  conda-forge\n",
            "    python-dateutil-2.8.2      |     pyhd8ed1ab_0         240 KB  conda-forge\n",
            "    python-fastjsonschema-2.15.3|     pyhd8ed1ab_0         243 KB  conda-forge\n",
            "    python_abi-3.7             |          2_cp37m           4 KB  conda-forge\n",
            "    pytz-2022.1                |     pyhd8ed1ab_0         242 KB  conda-forge\n",
            "    pyyaml-6.0                 |   py37h540881e_4         178 KB  conda-forge\n",
            "    pyzmq-22.3.0               |   py37h0c0c2a8_2         512 KB  conda-forge\n",
            "    qt-5.12.9                  |       hda022c4_4        99.5 MB  conda-forge\n",
            "    rdkit-2022.03.2            |   py37hc52db9c_0        39.4 MB  conda-forge\n",
            "    readline-8.1               |       h46c0cb4_0         295 KB  conda-forge\n",
            "    reportlab-3.5.68           |   py37h69800bb_1         2.4 MB  conda-forge\n",
            "    requests-2.27.1            |     pyhd8ed1ab_0          53 KB  conda-forge\n",
            "    scipy-1.7.3                |   py37hf2a6cf1_0        21.8 MB  conda-forge\n",
            "    send2trash-1.8.0           |     pyhd8ed1ab_0          17 KB  conda-forge\n",
            "    setuptools-59.8.0          |   py37h89c1867_1         1.0 MB  conda-forge\n",
            "    six-1.16.0                 |     pyh6c4a22f_0          14 KB  conda-forge\n",
            "    smirnoff99frosst-1.1.0     |     pyh44b312d_0          34 KB  conda-forge\n",
            "    snappy-1.1.9               |       hbd366e4_0          35 KB  conda-forge\n",
            "    sniffio-1.2.0              |   py37h89c1867_3          15 KB  conda-forge\n",
            "    snowballstemmer-2.2.0      |     pyhd8ed1ab_0          57 KB  conda-forge\n",
            "    soupsieve-2.3.1            |     pyhd8ed1ab_0          33 KB  conda-forge\n",
            "    sphinx-4.5.0               |     pyh6c4a22f_0         1.6 MB  conda-forge\n",
            "    sphinxcontrib-applehelp-1.0.2|             py_0          28 KB  conda-forge\n",
            "    sphinxcontrib-devhelp-1.0.2|             py_0          22 KB  conda-forge\n",
            "    sphinxcontrib-htmlhelp-2.0.0|     pyhd8ed1ab_0          31 KB  conda-forge\n",
            "    sphinxcontrib-jsmath-1.0.1 |             py_0           7 KB  conda-forge\n",
            "    sphinxcontrib-qthelp-1.0.3 |             py_0          25 KB  conda-forge\n",
            "    sphinxcontrib-serializinghtml-1.1.5|     pyhd8ed1ab_2          27 KB  conda-forge\n",
            "    sqlalchemy-1.4.36          |   py37h540881e_0         2.3 MB  conda-forge\n",
            "    sqlite-3.38.5              |       h4ff8645_0         1.5 MB  conda-forge\n",
            "    terminado-0.13.3           |   py37h89c1867_1          27 KB  conda-forge\n",
            "    tinycss2-1.1.1             |     pyhd8ed1ab_0          23 KB  conda-forge\n",
            "    tinydb-4.7.0               |     pyhd8ed1ab_0          24 KB  conda-forge\n",
            "    tk-8.6.12                  |       h27826a3_0         3.3 MB  conda-forge\n",
            "    tornado-6.1                |   py37h540881e_3         646 KB  conda-forge\n",
            "    traitlets-5.1.1            |     pyhd8ed1ab_0          82 KB  conda-forge\n",
            "    typing-extensions-4.2.0    |       hd8ed1ab_1           8 KB  conda-forge\n",
            "    typing_extensions-4.2.0    |     pyha770c72_1          27 KB  conda-forge\n",
            "    unicodedata2-14.0.0        |   py37h540881e_1         496 KB  conda-forge\n",
            "    urllib3-1.26.9             |     pyhd8ed1ab_0         100 KB  conda-forge\n",
            "    validators-0.18.2          |     pyhd3deb0d_0          18 KB  conda-forge\n",
            "    wcwidth-0.2.5              |     pyh9f0ad1d_2          33 KB  conda-forge\n",
            "    webencodings-0.5.1         |             py_1          12 KB  conda-forge\n",
            "    websocket-client-1.3.2     |     pyhd8ed1ab_0          41 KB  conda-forge\n",
            "    wheel-0.37.1               |     pyhd8ed1ab_0          31 KB  conda-forge\n",
            "    widgetsnbextension-3.6.0   |   py37h89c1867_0         1.2 MB  conda-forge\n",
            "    xmltodict-0.13.0           |     pyhd8ed1ab_0          13 KB  conda-forge\n",
            "    xorg-kbproto-1.0.7         |    h7f98852_1002          27 KB  conda-forge\n",
            "    xorg-libice-1.0.10         |       h7f98852_0          58 KB  conda-forge\n",
            "    xorg-libsm-1.2.3           |    hd9c2040_1000          26 KB  conda-forge\n",
            "    xorg-libx11-1.7.2          |       h7f98852_0         941 KB  conda-forge\n",
            "    xorg-libxau-1.0.9          |       h7f98852_0          13 KB  conda-forge\n",
            "    xorg-libxdmcp-1.1.3        |       h7f98852_0          19 KB  conda-forge\n",
            "    xorg-libxext-1.3.4         |       h7f98852_1          54 KB  conda-forge\n",
            "    xorg-libxrender-0.9.10     |    h7f98852_1003          32 KB  conda-forge\n",
            "    xorg-libxt-1.2.1           |       h7f98852_2         375 KB  conda-forge\n",
            "    xorg-renderproto-0.11.1    |    h7f98852_1002           9 KB  conda-forge\n",
            "    xorg-xextproto-7.3.0       |    h7f98852_1002          28 KB  conda-forge\n",
            "    xorg-xproto-7.0.31         |    h7f98852_1007          73 KB  conda-forge\n",
            "    xz-5.2.5                   |       h516909a_1         343 KB  conda-forge\n",
            "    yaml-0.2.5                 |       h7f98852_2          87 KB  conda-forge\n",
            "    zeromq-4.3.4               |       h9c3ff4c_1         351 KB  conda-forge\n",
            "    zipp-3.8.0                 |     pyhd8ed1ab_0          12 KB  conda-forge\n",
            "    zlib-1.2.11                |    h166bdaf_1014          88 KB  conda-forge\n",
            "    zstd-1.5.2                 |       ha95c52a_0         458 KB  conda-forge\n",
            "    ------------------------------------------------------------\n",
            "                                           Total:        1.02 GB\n",
            "\n",
            "The following NEW packages will be INSTALLED:\n",
            "\n",
            "  _libgcc_mutex      conda-forge/linux-64::_libgcc_mutex-0.1-conda_forge\n",
            "  _openmp_mutex      conda-forge/linux-64::_openmp_mutex-4.5-2_gnu\n",
            "  alabaster          conda-forge/noarch::alabaster-0.7.12-py_0\n",
            "  alsa-lib           conda-forge/linux-64::alsa-lib-1.2.3.2-h166bdaf_0\n",
            "  ambertools         conda-forge/linux-64::ambertools-22.0-py37ha6f76a1_0\n",
            "  anyio              conda-forge/linux-64::anyio-3.5.0-py37h89c1867_0\n",
            "  argon2-cffi        conda-forge/noarch::argon2-cffi-21.3.0-pyhd8ed1ab_0\n",
            "  argon2-cffi-bindi~ conda-forge/linux-64::argon2-cffi-bindings-21.2.0-py37h540881e_2\n",
            "  arpack             conda-forge/linux-64::arpack-3.7.0-hdefa2d7_2\n",
            "  astunparse         conda-forge/noarch::astunparse-1.6.3-pyhd8ed1ab_0\n",
            "  attrs              conda-forge/noarch::attrs-21.4.0-pyhd8ed1ab_0\n",
            "  babel              conda-forge/noarch::babel-2.10.1-pyhd8ed1ab_0\n",
            "  backcall           conda-forge/noarch::backcall-0.2.0-pyh9f0ad1d_0\n",
            "  backports          conda-forge/noarch::backports-1.0-py_2\n",
            "  backports.functoo~ conda-forge/noarch::backports.functools_lru_cache-1.6.4-pyhd8ed1ab_0\n",
            "  beautifulsoup4     conda-forge/noarch::beautifulsoup4-4.11.1-pyha770c72_0\n",
            "  bleach             conda-forge/noarch::bleach-5.0.0-pyhd8ed1ab_0\n",
            "  blosc              conda-forge/linux-64::blosc-1.21.1-h56a5e14_1\n",
            "  boost              conda-forge/linux-64::boost-1.74.0-py37h796e4cb_5\n",
            "  boost-cpp          conda-forge/linux-64::boost-cpp-1.74.0-h312852a_4\n",
            "  brotli             conda-forge/linux-64::brotli-1.0.9-h166bdaf_7\n",
            "  brotli-bin         conda-forge/linux-64::brotli-bin-1.0.9-h166bdaf_7\n",
            "  brotlipy           conda-forge/linux-64::brotlipy-0.7.0-py37h540881e_1004\n",
            "  bzip2              conda-forge/linux-64::bzip2-1.0.8-h7f98852_4\n",
            "  c-ares             conda-forge/linux-64::c-ares-1.18.1-h7f98852_0\n",
            "  ca-certificates    conda-forge/linux-64::ca-certificates-2021.10.8-ha878542_0\n",
            "  cairo              conda-forge/linux-64::cairo-1.16.0-h6cf1ce9_1008\n",
            "  certifi            conda-forge/linux-64::certifi-2021.10.8-py37h89c1867_2\n",
            "  cffi               conda-forge/linux-64::cffi-1.15.0-py37h036bc23_0\n",
            "  charset-normalizer conda-forge/noarch::charset-normalizer-2.0.12-pyhd8ed1ab_0\n",
            "  colorama           conda-forge/noarch::colorama-0.4.4-pyh9f0ad1d_0\n",
            "  cryptography       conda-forge/linux-64::cryptography-36.0.2-py37h38fbfac_1\n",
            "  cudatoolkit        conda-forge/linux-64::cudatoolkit-10.0.130-hf841e97_10\n",
            "  curl               conda-forge/linux-64::curl-7.83.0-h7bff187_0\n",
            "  cycler             conda-forge/noarch::cycler-0.11.0-pyhd8ed1ab_0\n",
            "  cython             conda-forge/linux-64::cython-0.29.28-py37hd23a5d3_2\n",
            "  dbus               conda-forge/linux-64::dbus-1.13.6-h5008d03_3\n",
            "  debugpy            conda-forge/linux-64::debugpy-1.6.0-py37hd23a5d3_0\n",
            "  decorator          conda-forge/noarch::decorator-4.4.2-py_0\n",
            "  defusedxml         conda-forge/noarch::defusedxml-0.7.1-pyhd8ed1ab_0\n",
            "  docutils           conda-forge/linux-64::docutils-0.15.2-py37h89c1867_3\n",
            "  entrypoints        conda-forge/noarch::entrypoints-0.4-pyhd8ed1ab_0\n",
            "  expat              conda-forge/linux-64::expat-2.4.8-h27087fc_0\n",
            "  fftw               conda-forge/linux-64::fftw-3.3.10-nompi_h77c792f_102\n",
            "  flit-core          conda-forge/noarch::flit-core-3.7.1-pyhd8ed1ab_0\n",
            "  fontconfig         conda-forge/linux-64::fontconfig-2.14.0-h8e229c2_0\n",
            "  fonttools          conda-forge/linux-64::fonttools-4.33.3-py37h540881e_0\n",
            "  freetype           conda-forge/linux-64::freetype-2.10.4-h0708190_1\n",
            "  gettext            conda-forge/linux-64::gettext-0.19.8.1-h73d1719_1008\n",
            "  giflib             conda-forge/linux-64::giflib-5.2.1-h36c2ea0_2\n",
            "  git                conda-forge/linux-64::git-2.35.3-pl5321h36853c3_0\n",
            "  greenlet           conda-forge/linux-64::greenlet-1.1.2-py37hd23a5d3_2\n",
            "  gst-plugins-base   conda-forge/linux-64::gst-plugins-base-1.18.5-hf529b03_3\n",
            "  gstreamer          conda-forge/linux-64::gstreamer-1.18.5-h9f60fe5_3\n",
            "  hdf4               conda-forge/linux-64::hdf4-4.2.15-h10796ff_3\n",
            "  hdf5               conda-forge/linux-64::hdf5-1.12.1-nompi_h2386368_104\n",
            "  icu                conda-forge/linux-64::icu-68.2-h9c3ff4c_0\n",
            "  idna               conda-forge/noarch::idna-3.3-pyhd8ed1ab_0\n",
            "  imagesize          conda-forge/noarch::imagesize-1.3.0-pyhd8ed1ab_0\n",
            "  importlib-metadata conda-forge/linux-64::importlib-metadata-4.11.3-py37h89c1867_1\n",
            "  importlib_metadata conda-forge/noarch::importlib_metadata-4.11.3-hd8ed1ab_1\n",
            "  importlib_resourc~ conda-forge/noarch::importlib_resources-5.7.1-pyhd8ed1ab_0\n",
            "  ipykernel          conda-forge/linux-64::ipykernel-6.13.0-py37h25bab4e_0\n",
            "  ipympl             conda-forge/noarch::ipympl-0.9.1-pyhd8ed1ab_0\n",
            "  ipython            conda-forge/linux-64::ipython-7.33.0-py37h89c1867_0\n",
            "  ipython_genutils   conda-forge/noarch::ipython_genutils-0.2.0-py_1\n",
            "  ipywidgets         conda-forge/noarch::ipywidgets-7.7.0-pyhd8ed1ab_0\n",
            "  jbig               conda-forge/linux-64::jbig-2.1-h7f98852_2003\n",
            "  jedi               conda-forge/linux-64::jedi-0.18.1-py37h89c1867_1\n",
            "  jinja2             conda-forge/noarch::jinja2-3.0.3-pyhd8ed1ab_0\n",
            "  jpeg               conda-forge/linux-64::jpeg-9e-h166bdaf_1\n",
            "  json5              conda-forge/noarch::json5-0.9.5-pyh9f0ad1d_0\n",
            "  jsonschema         conda-forge/noarch::jsonschema-4.5.1-pyhd8ed1ab_0\n",
            "  jupyter_client     conda-forge/noarch::jupyter_client-7.3.1-pyhd8ed1ab_0\n",
            "  jupyter_core       conda-forge/linux-64::jupyter_core-4.9.2-py37h89c1867_0\n",
            "  jupyter_server     conda-forge/noarch::jupyter_server-1.17.0-pyhd8ed1ab_0\n",
            "  jupyterlab         conda-forge/noarch::jupyterlab-3.4.0-pyhd8ed1ab_0\n",
            "  jupyterlab_pygmen~ conda-forge/noarch::jupyterlab_pygments-0.2.2-pyhd8ed1ab_0\n",
            "  jupyterlab_server  conda-forge/noarch::jupyterlab_server-2.13.0-pyhd8ed1ab_1\n",
            "  jupyterlab_widgets conda-forge/noarch::jupyterlab_widgets-1.1.0-pyhd8ed1ab_0\n",
            "  keyutils           conda-forge/linux-64::keyutils-1.6.1-h166bdaf_0\n",
            "  kiwisolver         conda-forge/linux-64::kiwisolver-1.4.2-py37h7cecad7_1\n",
            "  krb5               conda-forge/linux-64::krb5-1.19.3-h3790be6_0\n",
            "  lcms2              conda-forge/linux-64::lcms2-2.12-hddcbb42_0\n",
            "  ld_impl_linux-64   conda-forge/linux-64::ld_impl_linux-64-2.36.1-hea4e1c9_2\n",
            "  lerc               conda-forge/linux-64::lerc-3.0-h9c3ff4c_0\n",
            "  libblas            conda-forge/linux-64::libblas-3.9.0-14_linux64_openblas\n",
            "  libbrotlicommon    conda-forge/linux-64::libbrotlicommon-1.0.9-h166bdaf_7\n",
            "  libbrotlidec       conda-forge/linux-64::libbrotlidec-1.0.9-h166bdaf_7\n",
            "  libbrotlienc       conda-forge/linux-64::libbrotlienc-1.0.9-h166bdaf_7\n",
            "  libcblas           conda-forge/linux-64::libcblas-3.9.0-14_linux64_openblas\n",
            "  libclang           conda-forge/linux-64::libclang-11.1.0-default_ha53f305_1\n",
            "  libcurl            conda-forge/linux-64::libcurl-7.83.0-h7bff187_0\n",
            "  libdeflate         conda-forge/linux-64::libdeflate-1.10-h7f98852_0\n",
            "  libedit            conda-forge/linux-64::libedit-3.1.20191231-he28a2e2_2\n",
            "  libev              conda-forge/linux-64::libev-4.33-h516909a_1\n",
            "  libevent           conda-forge/linux-64::libevent-2.1.10-h9b69904_4\n",
            "  libffi             conda-forge/linux-64::libffi-3.4.2-h7f98852_5\n",
            "  libgcc-ng          conda-forge/linux-64::libgcc-ng-11.2.0-h1d223b6_16\n",
            "  libgfortran-ng     conda-forge/linux-64::libgfortran-ng-11.2.0-h69a702a_16\n",
            "  libgfortran5       conda-forge/linux-64::libgfortran5-11.2.0-h5c6108e_16\n",
            "  libglib            conda-forge/linux-64::libglib-2.70.2-h174f98d_4\n",
            "  libgomp            conda-forge/linux-64::libgomp-11.2.0-h1d223b6_16\n",
            "  libiconv           conda-forge/linux-64::libiconv-1.16-h516909a_0\n",
            "  liblapack          conda-forge/linux-64::liblapack-3.9.0-14_linux64_openblas\n",
            "  libllvm11          conda-forge/linux-64::libllvm11-11.1.0-hf817b99_3\n",
            "  libnetcdf          conda-forge/linux-64::libnetcdf-4.8.1-nompi_h329d8a1_102\n",
            "  libnghttp2         conda-forge/linux-64::libnghttp2-1.47.0-h727a467_0\n",
            "  libnsl             conda-forge/linux-64::libnsl-2.0.0-h7f98852_0\n",
            "  libogg             conda-forge/linux-64::libogg-1.3.4-h7f98852_1\n",
            "  libopenblas        conda-forge/linux-64::libopenblas-0.3.20-pthreads_h78a6416_0\n",
            "  libopus            conda-forge/linux-64::libopus-1.3.1-h7f98852_1\n",
            "  libpng             conda-forge/linux-64::libpng-1.6.37-h21135ba_2\n",
            "  libpq              conda-forge/linux-64::libpq-13.5-hd57d9b9_1\n",
            "  libsodium          conda-forge/linux-64::libsodium-1.0.18-h36c2ea0_1\n",
            "  libssh2            conda-forge/linux-64::libssh2-1.10.0-ha56f1ee_2\n",
            "  libstdcxx-ng       conda-forge/linux-64::libstdcxx-ng-11.2.0-he4da1e4_16\n",
            "  libtiff            conda-forge/linux-64::libtiff-4.3.0-h542a066_3\n",
            "  libuuid            conda-forge/linux-64::libuuid-2.32.1-h7f98852_1000\n",
            "  libvorbis          conda-forge/linux-64::libvorbis-1.3.7-h9c3ff4c_0\n",
            "  libwebp            conda-forge/linux-64::libwebp-1.2.2-h3452ae3_0\n",
            "  libwebp-base       conda-forge/linux-64::libwebp-base-1.2.2-h7f98852_1\n",
            "  libxcb             conda-forge/linux-64::libxcb-1.13-h7f98852_1004\n",
            "  libxkbcommon       conda-forge/linux-64::libxkbcommon-1.0.3-he3ba5ed_0\n",
            "  libxml2            conda-forge/linux-64::libxml2-2.9.10-h72842e0_4\n",
            "  libxslt            conda-forge/linux-64::libxslt-1.1.33-h15afd5d_2\n",
            "  libzip             conda-forge/linux-64::libzip-1.8.0-h4de3113_1\n",
            "  libzlib            conda-forge/linux-64::libzlib-1.2.11-h166bdaf_1014\n",
            "  lxml               conda-forge/linux-64::lxml-4.8.0-py37h540881e_3\n",
            "  lz4-c              conda-forge/linux-64::lz4-c-1.9.3-h9c3ff4c_1\n",
            "  lzo                conda-forge/linux-64::lzo-2.10-h516909a_1000\n",
            "  markupsafe         conda-forge/linux-64::markupsafe-2.1.1-py37h540881e_1\n",
            "  matplotlib         conda-forge/linux-64::matplotlib-3.5.2-py37h89c1867_0\n",
            "  matplotlib-base    conda-forge/linux-64::matplotlib-base-3.5.2-py37hc347a89_0\n",
            "  matplotlib-inline  conda-forge/noarch::matplotlib-inline-0.1.3-pyhd8ed1ab_0\n",
            "  mdtraj             conda-forge/linux-64::mdtraj-1.9.7-py37h527cbdb_1\n",
            "  mistune            conda-forge/linux-64::mistune-0.8.4-py37h5e8e339_1005\n",
            "  munkres            conda-forge/noarch::munkres-1.1.4-pyh9f0ad1d_0\n",
            "  mysql-common       conda-forge/linux-64::mysql-common-8.0.29-haf5c9bc_0\n",
            "  mysql-libs         conda-forge/linux-64::mysql-libs-8.0.29-h28c427c_0\n",
            "  nbclassic          conda-forge/noarch::nbclassic-0.3.7-pyhd8ed1ab_0\n",
            "  nbclient           conda-forge/noarch::nbclient-0.6.2-pyhd8ed1ab_0\n",
            "  nbconvert          conda-forge/noarch::nbconvert-6.5.0-pyhd8ed1ab_0\n",
            "  nbconvert-core     conda-forge/noarch::nbconvert-core-6.5.0-pyhd8ed1ab_0\n",
            "  nbconvert-pandoc   conda-forge/noarch::nbconvert-pandoc-6.5.0-pyhd8ed1ab_0\n",
            "  nbformat           conda-forge/noarch::nbformat-5.4.0-pyhd8ed1ab_0\n",
            "  ncurses            conda-forge/linux-64::ncurses-6.3-h27087fc_1\n",
            "  nest-asyncio       conda-forge/noarch::nest-asyncio-1.5.5-pyhd8ed1ab_0\n",
            "  netcdf-fortran     conda-forge/linux-64::netcdf-fortran-4.5.4-nompi_h2b6e579_100\n",
            "  networkx           conda-forge/noarch::networkx-2.5.1-pyhd8ed1ab_0\n",
            "  nomkl              conda-forge/noarch::nomkl-1.0-h5ca1d4c_0\n",
            "  notebook           conda-forge/noarch::notebook-6.4.11-pyha770c72_0\n",
            "  notebook-shim      conda-forge/noarch::notebook-shim-0.1.0-pyhd8ed1ab_0\n",
            "  nspr               conda-forge/linux-64::nspr-4.32-h9c3ff4c_1\n",
            "  nss                conda-forge/linux-64::nss-3.77-h2350873_0\n",
            "  numexpr            conda-forge/linux-64::numexpr-2.8.0-py37h85a3170_102\n",
            "  numpy              conda-forge/linux-64::numpy-1.21.6-py37h976b520_0\n",
            "  numpydoc           conda-forge/noarch::numpydoc-1.3.1-pyhd8ed1ab_0\n",
            "  ocl-icd            conda-forge/linux-64::ocl-icd-2.3.1-h7f98852_0\n",
            "  ocl-icd-system     conda-forge/linux-64::ocl-icd-system-1.0.0-1\n",
            "  openbabel          conda-forge/linux-64::openbabel-3.1.1-py37h200e996_1\n",
            "  openff-forcefields conda-forge/noarch::openff-forcefields-2.0.0-pyh6c4a22f_0\n",
            "  openff-toolkit     conda-forge/noarch::openff-toolkit-0.10.6-pyhd8ed1ab_0\n",
            "  openff-toolkit-ba~ conda-forge/noarch::openff-toolkit-base-0.10.6-pyhd8ed1ab_0\n",
            "  openjpeg           conda-forge/linux-64::openjpeg-2.4.0-hb52868f_1\n",
            "  openmm             conda-forge/linux-64::openmm-7.6.0-py37h0eafe0f_0\n",
            "  openmmforcefields  conda-forge/noarch::openmmforcefields-0.11.0-pyhd8ed1ab_0\n",
            "  openmoltools       conda-forge/noarch::openmoltools-0.8.8-pyhd8ed1ab_1\n",
            "  openssl            conda-forge/linux-64::openssl-1.1.1o-h166bdaf_0\n",
            "  packaging          conda-forge/noarch::packaging-21.3-pyhd8ed1ab_0\n",
            "  packmol            conda-forge/linux-64::packmol-20.010-h86c2bf4_0\n",
            "  pandas             conda-forge/linux-64::pandas-1.3.4-py37he8f5f7f_1\n",
            "  pandoc             conda-forge/linux-64::pandoc-2.18-ha770c72_0\n",
            "  pandocfilters      conda-forge/noarch::pandocfilters-1.5.0-pyhd8ed1ab_0\n",
            "  parmed             conda-forge/linux-64::parmed-3.4.3-py37hd23a5d3_2\n",
            "  parso              conda-forge/noarch::parso-0.8.3-pyhd8ed1ab_0\n",
            "  pcre               conda-forge/linux-64::pcre-8.45-h9c3ff4c_0\n",
            "  pcre2              conda-forge/linux-64::pcre2-10.37-h032f7d1_0\n",
            "  pdbfixer           conda-forge/noarch::pdbfixer-1.8.1-pyh6c4a22f_0\n",
            "  perl               conda-forge/linux-64::perl-5.32.1-2_h7f98852_perl5\n",
            "  pexpect            conda-forge/noarch::pexpect-4.8.0-pyh9f0ad1d_2\n",
            "  pickleshare        conda-forge/noarch::pickleshare-0.7.5-py_1003\n",
            "  pillow             conda-forge/linux-64::pillow-9.1.0-py37h44f0d7a_2\n",
            "  pip                conda-forge/noarch::pip-22.0.4-pyhd8ed1ab_0\n",
            "  pixman             conda-forge/linux-64::pixman-0.40.0-h36c2ea0_0\n",
            "  prometheus_client  conda-forge/noarch::prometheus_client-0.14.1-pyhd8ed1ab_0\n",
            "  prompt-toolkit     conda-forge/noarch::prompt-toolkit-3.0.29-pyha770c72_0\n",
            "  psutil             conda-forge/linux-64::psutil-5.9.0-py37h540881e_1\n",
            "  pthread-stubs      conda-forge/linux-64::pthread-stubs-0.4-h36c2ea0_1001\n",
            "  ptyprocess         conda-forge/noarch::ptyprocess-0.7.0-pyhd3deb0d_0\n",
            "  pycairo            conda-forge/linux-64::pycairo-1.21.0-py37h0afab05_1\n",
            "  pycparser          conda-forge/noarch::pycparser-2.21-pyhd8ed1ab_0\n",
            "  pygments           conda-forge/noarch::pygments-2.12.0-pyhd8ed1ab_0\n",
            "  pymbar             conda-forge/linux-64::pymbar-3.0.6-py37hda87dfa_0\n",
            "  pyopenssl          conda-forge/noarch::pyopenssl-22.0.0-pyhd8ed1ab_0\n",
            "  pyparsing          conda-forge/noarch::pyparsing-3.0.8-pyhd8ed1ab_0\n",
            "  pyqt               conda-forge/linux-64::pyqt-5.12.3-py37h89c1867_8\n",
            "  pyqt-impl          conda-forge/linux-64::pyqt-impl-5.12.3-py37hac37412_8\n",
            "  pyqt5-sip          conda-forge/linux-64::pyqt5-sip-4.19.18-py37hcd2ae1e_8\n",
            "  pyqtchart          conda-forge/linux-64::pyqtchart-5.12-py37he336c9b_8\n",
            "  pyqtwebengine      conda-forge/linux-64::pyqtwebengine-5.12.1-py37he336c9b_8\n",
            "  pyrsistent         conda-forge/linux-64::pyrsistent-0.18.1-py37h540881e_1\n",
            "  pysocks            conda-forge/linux-64::pysocks-1.7.1-py37h89c1867_5\n",
            "  pytables           conda-forge/linux-64::pytables-3.7.0-py37h5dea08b_0\n",
            "  python             conda-forge/linux-64::python-3.7.12-hb7a2778_100_cpython\n",
            "  python-constraint  conda-forge/noarch::python-constraint-1.4.0-py_0\n",
            "  python-dateutil    conda-forge/noarch::python-dateutil-2.8.2-pyhd8ed1ab_0\n",
            "  python-fastjsonsc~ conda-forge/noarch::python-fastjsonschema-2.15.3-pyhd8ed1ab_0\n",
            "  python_abi         conda-forge/linux-64::python_abi-3.7-2_cp37m\n",
            "  pytz               conda-forge/noarch::pytz-2022.1-pyhd8ed1ab_0\n",
            "  pyyaml             conda-forge/linux-64::pyyaml-6.0-py37h540881e_4\n",
            "  pyzmq              conda-forge/linux-64::pyzmq-22.3.0-py37h0c0c2a8_2\n",
            "  qt                 conda-forge/linux-64::qt-5.12.9-hda022c4_4\n",
            "  rdkit              conda-forge/linux-64::rdkit-2022.03.2-py37hc52db9c_0\n",
            "  readline           conda-forge/linux-64::readline-8.1-h46c0cb4_0\n",
            "  reportlab          conda-forge/linux-64::reportlab-3.5.68-py37h69800bb_1\n",
            "  requests           conda-forge/noarch::requests-2.27.1-pyhd8ed1ab_0\n",
            "  scipy              conda-forge/linux-64::scipy-1.7.3-py37hf2a6cf1_0\n",
            "  send2trash         conda-forge/noarch::send2trash-1.8.0-pyhd8ed1ab_0\n",
            "  setuptools         conda-forge/linux-64::setuptools-59.8.0-py37h89c1867_1\n",
            "  six                conda-forge/noarch::six-1.16.0-pyh6c4a22f_0\n",
            "  smirnoff99frosst   conda-forge/noarch::smirnoff99frosst-1.1.0-pyh44b312d_0\n",
            "  snappy             conda-forge/linux-64::snappy-1.1.9-hbd366e4_0\n",
            "  sniffio            conda-forge/linux-64::sniffio-1.2.0-py37h89c1867_3\n",
            "  snowballstemmer    conda-forge/noarch::snowballstemmer-2.2.0-pyhd8ed1ab_0\n",
            "  soupsieve          conda-forge/noarch::soupsieve-2.3.1-pyhd8ed1ab_0\n",
            "  sphinx             conda-forge/noarch::sphinx-4.5.0-pyh6c4a22f_0\n",
            "  sphinxcontrib-app~ conda-forge/noarch::sphinxcontrib-applehelp-1.0.2-py_0\n",
            "  sphinxcontrib-dev~ conda-forge/noarch::sphinxcontrib-devhelp-1.0.2-py_0\n",
            "  sphinxcontrib-htm~ conda-forge/noarch::sphinxcontrib-htmlhelp-2.0.0-pyhd8ed1ab_0\n",
            "  sphinxcontrib-jsm~ conda-forge/noarch::sphinxcontrib-jsmath-1.0.1-py_0\n",
            "  sphinxcontrib-qth~ conda-forge/noarch::sphinxcontrib-qthelp-1.0.3-py_0\n",
            "  sphinxcontrib-ser~ conda-forge/noarch::sphinxcontrib-serializinghtml-1.1.5-pyhd8ed1ab_2\n",
            "  sqlalchemy         conda-forge/linux-64::sqlalchemy-1.4.36-py37h540881e_0\n",
            "  sqlite             conda-forge/linux-64::sqlite-3.38.5-h4ff8645_0\n",
            "  terminado          conda-forge/linux-64::terminado-0.13.3-py37h89c1867_1\n",
            "  tinycss2           conda-forge/noarch::tinycss2-1.1.1-pyhd8ed1ab_0\n",
            "  tinydb             conda-forge/noarch::tinydb-4.7.0-pyhd8ed1ab_0\n",
            "  tk                 conda-forge/linux-64::tk-8.6.12-h27826a3_0\n",
            "  tornado            conda-forge/linux-64::tornado-6.1-py37h540881e_3\n",
            "  traitlets          conda-forge/noarch::traitlets-5.1.1-pyhd8ed1ab_0\n",
            "  typing-extensions  conda-forge/noarch::typing-extensions-4.2.0-hd8ed1ab_1\n",
            "  typing_extensions  conda-forge/noarch::typing_extensions-4.2.0-pyha770c72_1\n",
            "  unicodedata2       conda-forge/linux-64::unicodedata2-14.0.0-py37h540881e_1\n",
            "  urllib3            conda-forge/noarch::urllib3-1.26.9-pyhd8ed1ab_0\n",
            "  validators         conda-forge/noarch::validators-0.18.2-pyhd3deb0d_0\n",
            "  wcwidth            conda-forge/noarch::wcwidth-0.2.5-pyh9f0ad1d_2\n",
            "  webencodings       conda-forge/noarch::webencodings-0.5.1-py_1\n",
            "  websocket-client   conda-forge/noarch::websocket-client-1.3.2-pyhd8ed1ab_0\n",
            "  wheel              conda-forge/noarch::wheel-0.37.1-pyhd8ed1ab_0\n",
            "  widgetsnbextension conda-forge/linux-64::widgetsnbextension-3.6.0-py37h89c1867_0\n",
            "  xmltodict          conda-forge/noarch::xmltodict-0.13.0-pyhd8ed1ab_0\n",
            "  xorg-kbproto       conda-forge/linux-64::xorg-kbproto-1.0.7-h7f98852_1002\n",
            "  xorg-libice        conda-forge/linux-64::xorg-libice-1.0.10-h7f98852_0\n",
            "  xorg-libsm         conda-forge/linux-64::xorg-libsm-1.2.3-hd9c2040_1000\n",
            "  xorg-libx11        conda-forge/linux-64::xorg-libx11-1.7.2-h7f98852_0\n",
            "  xorg-libxau        conda-forge/linux-64::xorg-libxau-1.0.9-h7f98852_0\n",
            "  xorg-libxdmcp      conda-forge/linux-64::xorg-libxdmcp-1.1.3-h7f98852_0\n",
            "  xorg-libxext       conda-forge/linux-64::xorg-libxext-1.3.4-h7f98852_1\n",
            "  xorg-libxrender    conda-forge/linux-64::xorg-libxrender-0.9.10-h7f98852_1003\n",
            "  xorg-libxt         conda-forge/linux-64::xorg-libxt-1.2.1-h7f98852_2\n",
            "  xorg-renderproto   conda-forge/linux-64::xorg-renderproto-0.11.1-h7f98852_1002\n",
            "  xorg-xextproto     conda-forge/linux-64::xorg-xextproto-7.3.0-h7f98852_1002\n",
            "  xorg-xproto        conda-forge/linux-64::xorg-xproto-7.0.31-h7f98852_1007\n",
            "  xz                 conda-forge/linux-64::xz-5.2.5-h516909a_1\n",
            "  yaml               conda-forge/linux-64::yaml-0.2.5-h7f98852_2\n",
            "  zeromq             conda-forge/linux-64::zeromq-4.3.4-h9c3ff4c_1\n",
            "  zipp               conda-forge/noarch::zipp-3.8.0-pyhd8ed1ab_0\n",
            "  zlib               conda-forge/linux-64::zlib-1.2.11-h166bdaf_1014\n",
            "  zstd               conda-forge/linux-64::zstd-1.5.2-ha95c52a_0\n",
            "\n",
            "\n",
            "\n",
            "Downloading and Extracting Packages\n",
            "munkres-1.1.4        | 12 KB     | : 100% 1.0/1 [00:00<00:00, 14.23it/s]\n",
            "libffi-3.4.2         | 57 KB     | : 100% 1.0/1 [00:00<00:00, 18.32it/s]\n",
            "brotli-bin-1.0.9     | 19 KB     | : 100% 1.0/1 [00:00<00:00, 29.69it/s]\n",
            "libclang-11.1.0      | 19.2 MB   | : 100% 1.0/1 [00:03<00:00,  3.43s/it]              \n",
            "libxkbcommon-1.0.3   | 581 KB    | : 100% 1.0/1 [00:00<00:00,  7.29it/s]\n",
            "xorg-kbproto-1.0.7   | 27 KB     | : 100% 1.0/1 [00:00<00:00, 22.56it/s]\n",
            "pandoc-2.18          | 12.5 MB   | : 100% 1.0/1 [00:03<00:00,  3.01s/it]               \n",
            "smirnoff99frosst-1.1 | 34 KB     | : 100% 1.0/1 [00:00<00:00, 19.77it/s]\n",
            "nspr-4.32            | 233 KB    | : 100% 1.0/1 [00:00<00:00, 12.37it/s]\n",
            "libopenblas-0.3.20   | 10.1 MB   | : 100% 1.0/1 [00:01<00:00,  1.82s/it]              \n",
            "ipywidgets-7.7.0     | 103 KB    | : 100% 1.0/1 [00:00<00:00, 19.44it/s]\n",
            "sniffio-1.2.0        | 15 KB     | : 100% 1.0/1 [00:00<00:00, 33.72it/s]\n",
            "libnetcdf-4.8.1      | 1.5 MB    | : 100% 1.0/1 [00:00<00:00,  3.47it/s]\n",
            "backports.functools_ | 9 KB      | : 100% 1.0/1 [00:00<00:00, 21.81it/s]\n",
            "cryptography-36.0.2  | 1.6 MB    | : 100% 1.0/1 [00:00<00:00,  2.10it/s]\n",
            "libstdcxx-ng-11.2.0  | 4.2 MB    | : 100% 1.0/1 [00:00<00:00,  1.43it/s]\n",
            "pyrsistent-0.18.1    | 91 KB     | : 100% 1.0/1 [00:00<00:00, 17.16it/s]\n",
            "openff-toolkit-base- | 28.3 MB   | : 100% 1.0/1 [00:05<00:00,  5.13s/it]               \n",
            "libiconv-1.16        | 1.4 MB    | : 100% 1.0/1 [00:00<00:00,  4.86it/s]\n",
            "libwebp-base-1.2.2   | 824 KB    | : 100% 1.0/1 [00:00<00:00,  5.47it/s]\n",
            "sphinxcontrib-serial | 27 KB     | : 100% 1.0/1 [00:00<00:00, 17.56it/s]\n",
            "importlib-metadata-4 | 33 KB     | : 100% 1.0/1 [00:00<00:00, 25.01it/s]\n",
            "libwebp-1.2.2        | 85 KB     | : 100% 1.0/1 [00:00<00:00, 23.66it/s]\n",
            "mdtraj-1.9.7         | 1.8 MB    | : 100% 1.0/1 [00:00<00:00,  2.75it/s]\n",
            "pyzmq-22.3.0         | 512 KB    | : 100% 1.0/1 [00:00<00:00,  2.65it/s]\n",
            "lcms2-2.12           | 443 KB    | : 100% 1.0/1 [00:00<00:00,  9.65it/s]\n",
            "webencodings-0.5.1   | 12 KB     | : 100% 1.0/1 [00:00<00:00, 27.93it/s]\n",
            "pip-22.0.4           | 1.5 MB    | : 100% 1.0/1 [00:00<00:00,  2.47it/s]\n",
            "pytables-3.7.0       | 2.0 MB    | : 100% 1.0/1 [00:00<00:00,  1.73it/s]\n",
            "openjpeg-2.4.0       | 444 KB    | : 100% 1.0/1 [00:00<00:00,  9.31it/s]\n",
            "charset-normalizer-2 | 35 KB     | : 100% 1.0/1 [00:00<00:00, 25.00it/s]\n",
            "nbclient-0.6.2       | 64 KB     | : 100% 1.0/1 [00:00<00:00, 20.44it/s]\n",
            "alabaster-0.7.12     | 15 KB     | : 100% 1.0/1 [00:00<00:00, 28.82it/s]\n",
            "pyopenssl-22.0.0     | 49 KB     | : 100% 1.0/1 [00:00<00:00, 21.91it/s]\n",
            "parso-0.8.3          | 69 KB     | : 100% 1.0/1 [00:00<00:00, 20.17it/s]\n",
            "lerc-3.0             | 216 KB    | : 100% 1.0/1 [00:00<00:00, 15.56it/s]\n",
            "hdf5-1.12.1          | 3.5 MB    | : 100% 1.0/1 [00:00<00:00,  1.67it/s]\n",
            "qt-5.12.9            | 99.5 MB   | : 100% 1.0/1 [00:18<00:00, 18.29s/it]               \n",
            "zipp-3.8.0           | 12 KB     | : 100% 1.0/1 [00:00<00:00, 24.14it/s]\n",
            "lxml-4.8.0           | 1.4 MB    | : 100% 1.0/1 [00:00<00:00,  3.64it/s]\n",
            "idna-3.3             | 55 KB     | : 100% 1.0/1 [00:00<00:00, 25.14it/s]\n",
            "pyqt-5.12.3          | 22 KB     | : 100% 1.0/1 [00:00<00:00, 24.51it/s]\n",
            "numpydoc-1.3.1       | 45 KB     | : 100% 1.0/1 [00:00<00:00, 18.03it/s]\n",
            "imagesize-1.3.0      | 9 KB      | : 100% 1.0/1 [00:00<00:00, 29.18it/s]\n",
            "arpack-3.7.0         | 215 KB    | : 100% 1.0/1 [00:00<00:00, 12.61it/s]\n",
            "yaml-0.2.5           | 87 KB     | : 100% 1.0/1 [00:00<00:00, 18.59it/s]\n",
            "libsodium-1.0.18     | 366 KB    | : 100% 1.0/1 [00:00<00:00,  9.84it/s]\n",
            "libbrotlidec-1.0.9   | 33 KB     | : 100% 1.0/1 [00:00<00:00, 28.55it/s]\n",
            "argon2-cffi-bindings | 34 KB     | : 100% 1.0/1 [00:00<00:00, 22.94it/s]\n",
            "xmltodict-0.13.0     | 13 KB     | : 100% 1.0/1 [00:00<00:00, 31.27it/s]\n",
            "argon2-cffi-21.3.0   | 15 KB     | : 100% 1.0/1 [00:00<00:00, 30.99it/s]\n",
            "c-ares-1.18.1        | 113 KB    | : 100% 1.0/1 [00:00<00:00, 16.22it/s]\n",
            "pcre-8.45            | 253 KB    | : 100% 1.0/1 [00:00<00:00, 11.89it/s]\n",
            "libnghttp2-1.47.0    | 808 KB    | : 100% 1.0/1 [00:00<00:00,  5.92it/s]\n",
            "git-2.35.3           | 13.4 MB   | : 100% 1.0/1 [00:02<00:00,  2.69s/it]               \n",
            "snappy-1.1.9         | 35 KB     | : 100% 1.0/1 [00:00<00:00, 25.73it/s]\n",
            "mysql-common-8.0.29  | 1.8 MB    | : 100% 1.0/1 [00:00<00:00,  1.93it/s]\n",
            "pandocfilters-1.5.0  | 11 KB     | : 100% 1.0/1 [00:00<00:00, 23.59it/s]\n",
            "libbrotlienc-1.0.9   | 287 KB    | : 100% 1.0/1 [00:00<00:00, 13.44it/s]\n",
            "readline-8.1         | 295 KB    | : 100% 1.0/1 [00:00<00:00, 11.16it/s]\n",
            "debugpy-1.6.0        | 2.0 MB    | : 100% 1.0/1 [00:00<00:00,  1.77it/s]\n",
            "pyyaml-6.0           | 178 KB    | : 100% 1.0/1 [00:00<00:00, 14.99it/s]\n",
            "jupyter_server-1.17. | 238 KB    | : 100% 1.0/1 [00:00<00:00, 10.34it/s]\n",
            "ocl-icd-system-1.0.0 | 4 KB      | : 100% 1.0/1 [00:00<00:00, 29.61it/s]\n",
            "python-3.7.12        | 57.3 MB   | : 100% 1.0/1 [00:07<00:00,  7.74s/it]               \n",
            "entrypoints-0.4      | 9 KB      | : 100% 1.0/1 [00:00<00:00, 24.37it/s]\n",
            "jupyterlab_server-2. | 49 KB     | : 100% 1.0/1 [00:00<00:00, 21.58it/s]\n",
            "ld_impl_linux-64-2.3 | 667 KB    | : 100% 1.0/1 [00:00<00:00,  6.04it/s]\n",
            "sphinxcontrib-devhel | 22 KB     | : 100% 1.0/1 [00:00<00:00, 18.05it/s]\n",
            "prometheus_client-0. | 49 KB     | : 100% 1.0/1 [00:00<00:00, 23.47it/s]\n",
            "jbig-2.1             | 43 KB     | : 100% 1.0/1 [00:00<00:00, 22.91it/s]\n",
            "certifi-2021.10.8    | 145 KB    | : 100% 1.0/1 [00:00<00:00, 20.10it/s]\n",
            "pyqt-impl-5.12.3     | 5.9 MB    | : 100% 1.0/1 [00:01<00:00,  1.34s/it]\n",
            "typing-extensions-4. | 8 KB      | : 100% 1.0/1 [00:00<00:00, 39.34it/s]\n",
            "zlib-1.2.11          | 88 KB     | : 100% 1.0/1 [00:00<00:00, 20.31it/s]\n",
            "xorg-xextproto-7.3.0 | 28 KB     | : 100% 1.0/1 [00:00<00:00, 23.77it/s]\n",
            "flit-core-3.7.1      | 44 KB     | : 100% 1.0/1 [00:00<00:00, 18.15it/s]\n",
            "jedi-0.18.1          | 1008 KB   | : 100% 1.0/1 [00:00<00:00,  1.74it/s]\n",
            "sphinx-4.5.0         | 1.6 MB    | : 100% 1.0/1 [00:00<00:00,  1.79it/s]\n",
            "validators-0.18.2    | 18 KB     | : 100% 1.0/1 [00:00<00:00, 27.42it/s]\n",
            "ncurses-6.3          | 1002 KB   | : 100% 1.0/1 [00:00<00:00,  2.01it/s]\n",
            "urllib3-1.26.9       | 100 KB    | : 100% 1.0/1 [00:00<00:00, 17.29it/s]\n",
            "openmoltools-0.8.8   | 4.3 MB    | : 100% 1.0/1 [00:00<00:00,  1.67it/s]\n",
            "gettext-0.19.8.1     | 3.6 MB    | : 100% 1.0/1 [00:00<00:00,  1.05it/s]\n",
            "xorg-libice-1.0.10   | 58 KB     | : 100% 1.0/1 [00:00<00:00, 22.97it/s]\n",
            "libglib-2.70.2       | 3.1 MB    | : 100% 1.0/1 [00:00<00:00,  1.56it/s]\n",
            "jinja2-3.0.3         | 99 KB     | : 100% 1.0/1 [00:00<00:00, 17.29it/s]\n",
            "tornado-6.1          | 646 KB    | : 100% 1.0/1 [00:00<00:00,  5.72it/s]\n",
            "openssl-1.1.1o       | 2.1 MB    | : 100% 1.0/1 [00:00<00:00,  2.76it/s]\n",
            "blosc-1.21.1         | 65 KB     | : 100% 1.0/1 [00:00<00:00,  3.19it/s]               \n",
            "fonttools-4.33.3     | 1.6 MB    | : 100% 1.0/1 [00:00<00:00,  2.32it/s]\n",
            "nbclassic-0.3.7      | 14 KB     | : 100% 1.0/1 [00:00<00:00, 24.29it/s]\n",
            "freetype-2.10.4      | 890 KB    | : 100% 1.0/1 [00:00<00:00,  5.61it/s]\n",
            "libevent-2.1.10      | 1.1 MB    | : 100% 1.0/1 [00:00<00:00,  2.83it/s]\n",
            "beautifulsoup4-4.11. | 96 KB     | : 100% 1.0/1 [00:00<00:00, 13.10it/s]\n",
            "cairo-1.16.0         | 1.5 MB    | : 100% 1.0/1 [00:00<00:00,  2.84it/s]\n",
            "send2trash-1.8.0     | 17 KB     | : 100% 1.0/1 [00:00<00:00, 27.92it/s]\n",
            "openmmforcefields-0. | 2.7 MB    | : 100% 1.0/1 [00:01<00:00,  1.37s/it]\n",
            "xz-5.2.5             | 343 KB    | : 100% 1.0/1 [00:00<00:00, 10.30it/s]\n",
            "libssh2-1.10.0       | 233 KB    | : 100% 1.0/1 [00:00<00:00,  3.29it/s]                \n",
            "jsonschema-4.5.1     | 57 KB     | : 100% 1.0/1 [00:00<00:00, 22.83it/s]\n",
            "libvorbis-1.3.7      | 280 KB    | : 100% 1.0/1 [00:00<00:00, 12.91it/s]\n",
            "psutil-5.9.0         | 342 KB    | : 100% 1.0/1 [00:00<00:00,  9.64it/s]\n",
            "expat-2.4.8          | 187 KB    | : 100% 1.0/1 [00:00<00:00, 14.71it/s]\n",
            "boost-1.74.0         | 342 KB    | : 100% 1.0/1 [00:00<00:00,  8.15it/s]\n",
            "sphinxcontrib-qthelp | 25 KB     | : 100% 1.0/1 [00:00<00:00, 15.59it/s]\n",
            "pycparser-2.21       | 100 KB    | : 100% 1.0/1 [00:00<00:00, 12.34it/s]\n",
            "ipykernel-6.13.0     | 185 KB    | : 100% 1.0/1 [00:00<00:00,  3.39it/s]                \n",
            "curl-7.83.0          | 89 KB     | : 100% 1.0/1 [00:00<00:00, 20.42it/s]\n",
            "numpy-1.21.6         | 6.1 MB    | : 100% 1.0/1 [00:01<00:00,  1.34s/it]\n",
            "netcdf-fortran-4.5.4 | 1.3 MB    | : 100% 1.0/1 [00:00<00:00,  3.99it/s]\n",
            "pygments-2.12.0      | 817 KB    | : 100% 1.0/1 [00:00<00:00,  4.18it/s]\n",
            "xorg-libsm-1.2.3     | 26 KB     | : 100% 1.0/1 [00:00<00:00, 19.08it/s]\n",
            "unicodedata2-14.0.0  | 496 KB    | : 100% 1.0/1 [00:00<00:00,  9.55it/s]\n",
            "nbformat-5.4.0       | 104 KB    | : 100% 1.0/1 [00:00<00:00, 16.00it/s]\n",
            "pexpect-4.8.0        | 47 KB     | : 100% 1.0/1 [00:00<00:00, 27.66it/s]\n",
            "python-dateutil-2.8. | 240 KB    | : 100% 1.0/1 [00:00<00:00, 15.36it/s]\n",
            "importlib_metadata-4 | 4 KB      | : 100% 1.0/1 [00:00<00:00, 38.88it/s]\n",
            "scipy-1.7.3          | 21.8 MB   | : 100% 1.0/1 [00:03<00:00,  3.82s/it]               \n",
            "tinydb-4.7.0         | 24 KB     | : 100% 1.0/1 [00:00<00:00, 26.87it/s]\n",
            "pcre2-10.37          | 1.1 MB    | : 100% 1.0/1 [00:00<00:00,  3.90it/s]\n",
            "xorg-libxext-1.3.4   | 54 KB     | : 100% 1.0/1 [00:00<00:00, 25.95it/s]\n",
            "ipython_genutils-0.2 | 21 KB     | : 100% 1.0/1 [00:00<00:00, 31.08it/s]\n",
            "jupyter_core-4.9.2   | 80 KB     | : 100% 1.0/1 [00:00<00:00, 14.60it/s]\n",
            "gst-plugins-base-1.1 | 2.6 MB    | : 100% 1.0/1 [00:00<00:00,  1.66it/s]\n",
            "libgfortran5-11.2.0  | 1.7 MB    | : 100% 1.0/1 [00:00<00:00,  2.77it/s]\n",
            "docutils-0.15.2      | 733 KB    | : 100% 1.0/1 [00:00<00:00,  4.67it/s]\n",
            "terminado-0.13.3     | 27 KB     | : 100% 1.0/1 [00:00<00:00, 27.75it/s]\n",
            "matplotlib-3.5.2     | 6 KB      | : 100% 1.0/1 [00:00<00:00, 32.40it/s]\n",
            "xorg-libxau-1.0.9    | 13 KB     | : 100% 1.0/1 [00:00<00:00, 33.21it/s]\n",
            "notebook-shim-0.1.0  | 15 KB     | : 100% 1.0/1 [00:00<00:00, 32.26it/s]\n",
            "colorama-0.4.4       | 18 KB     | : 100% 1.0/1 [00:00<00:00, 22.09it/s]\n",
            "libblas-3.9.0        | 12 KB     | : 100% 1.0/1 [00:00<00:00, 29.53it/s]\n",
            "defusedxml-0.7.1     | 23 KB     | : 100% 1.0/1 [00:00<00:00, 25.04it/s]\n",
            "zstd-1.5.2           | 458 KB    | : 100% 1.0/1 [00:00<00:00,  8.29it/s]\n",
            "pytz-2022.1          | 242 KB    | : 100% 1.0/1 [00:00<00:00,  7.77it/s]\n",
            "networkx-2.5.1       | 1.2 MB    | : 100% 1.0/1 [00:00<00:00,  2.37it/s]\n",
            "_libgcc_mutex-0.1    | 3 KB      | : 100% 1.0/1 [00:00<00:00, 39.18it/s]\n",
            "pickleshare-0.7.5    | 9 KB      | : 100% 1.0/1 [00:00<00:00, 30.31it/s]\n",
            "python-constraint-1. | 21 KB     | : 100% 1.0/1 [00:00<00:00, 24.05it/s]\n",
            "hdf4-4.2.15          | 950 KB    | : 100% 1.0/1 [00:00<00:00,  4.42it/s]\n",
            "libnsl-2.0.0         | 31 KB     | : 100% 1.0/1 [00:00<00:00, 29.95it/s]\n",
            "attrs-21.4.0         | 49 KB     | : 100% 1.0/1 [00:00<00:00, 20.65it/s]\n",
            "pysocks-1.7.1        | 28 KB     | : 100% 1.0/1 [00:00<00:00, 30.30it/s]\n",
            "jupyterlab-3.4.0     | 5.9 MB    | : 100% 1.0/1 [00:01<00:00,  1.36s/it]\n",
            "babel-2.10.1         | 6.7 MB    | : 100% 1.0/1 [00:01<00:00,  1.34s/it]\n",
            "greenlet-1.1.2       | 90 KB     | : 100% 1.0/1 [00:00<00:00, 18.67it/s]\n",
            "xorg-xproto-7.0.31   | 73 KB     | : 100% 1.0/1 [00:00<00:00, 19.68it/s]\n",
            "libedit-3.1.20191231 | 121 KB    | : 100% 1.0/1 [00:00<00:00, 16.95it/s]\n",
            "fontconfig-2.14.0    | 305 KB    | : 100% 1.0/1 [00:00<00:00, 10.69it/s]\n",
            "astunparse-1.6.3     | 15 KB     | : 100% 1.0/1 [00:00<00:00, 31.27it/s]\n",
            "xorg-libxt-1.2.1     | 375 KB    | : 100% 1.0/1 [00:00<00:00,  8.40it/s]\n",
            "widgetsnbextension-3 | 1.2 MB    | : 100% 1.0/1 [00:00<00:00,  3.13it/s]\n",
            "jupyterlab_pygments- | 17 KB     | : 100% 1.0/1 [00:00<00:00, 26.55it/s]\n",
            "pyqtchart-5.12       | 257 KB    | : 100% 1.0/1 [00:00<00:00, 11.49it/s]\n",
            "cudatoolkit-10.0.130 | 336.5 MB  | : 100% 1.0/1 [00:45<00:00, 45.10s/it]              \n",
            "zeromq-4.3.4         | 351 KB    | : 100% 1.0/1 [00:00<00:00,  9.82it/s]\n",
            "rdkit-2022.03.2      | 39.4 MB   | : 100% 1.0/1 [00:07<00:00,  7.40s/it]               \n",
            "libgomp-11.2.0       | 428 KB    | : 100% 1.0/1 [00:00<00:00, 10.65it/s]\n",
            "notebook-6.4.11      | 6.3 MB    | : 100% 1.0/1 [00:01<00:00,  1.43s/it]\n",
            "decorator-4.4.2      | 11 KB     | : 100% 1.0/1 [00:00<00:00, 25.01it/s]\n",
            "libev-4.33           | 104 KB    | : 100% 1.0/1 [00:00<00:00, 20.40it/s]\n",
            "lzo-2.10             | 314 KB    | : 100% 1.0/1 [00:00<00:00, 10.37it/s]\n",
            "kiwisolver-1.4.2     | 73 KB     | : 100% 1.0/1 [00:00<00:00, 20.00it/s]\n",
            "libuuid-2.32.1       | 28 KB     | : 100% 1.0/1 [00:00<00:00, 29.47it/s]\n",
            "mysql-libs-8.0.29    | 1.9 MB    | : 100% 1.0/1 [00:00<00:00,  3.10it/s]\n",
            "python-fastjsonschem | 243 KB    | : 100% 1.0/1 [00:00<00:00,  2.48it/s]\n",
            "pdbfixer-1.8.1       | 498 KB    | : 100% 1.0/1 [00:00<00:00,  8.14it/s]\n",
            "packaging-21.3       | 36 KB     | : 100% 1.0/1 [00:00<00:00, 28.67it/s]\n",
            "mistune-0.8.4        | 54 KB     | : 100% 1.0/1 [00:00<00:00, 19.04it/s]\n",
            "libbrotlicommon-1.0. | 65 KB     | : 100% 1.0/1 [00:00<00:00, 25.35it/s]\n",
            "tk-8.6.12            | 3.3 MB    | : 100% 1.0/1 [00:00<00:00,  1.57it/s]\n",
            "six-1.16.0           | 14 KB     | : 100% 1.0/1 [00:00<00:00, 28.35it/s]\n",
            "numexpr-2.8.0        | 133 KB    | : 100% 1.0/1 [00:00<00:00, 19.89it/s]\n",
            "typing_extensions-4. | 27 KB     | : 100% 1.0/1 [00:00<00:00, 25.21it/s]\n",
            "pillow-9.1.0         | 44.7 MB   | : 100% 1.0/1 [00:05<00:00,  5.59s/it]               \n",
            "openmm-7.6.0         | 10.9 MB   | : 100% 1.0/1 [00:02<00:00,  2.50s/it]              \n",
            "krb5-1.19.3          | 1.4 MB    | : 100% 1.0/1 [00:00<00:00,  3.38it/s]\n",
            "alsa-lib-1.2.3.2     | 554 KB    | : 100% 1.0/1 [00:00<00:00,  2.89it/s]\n",
            "libcblas-3.9.0       | 12 KB     | : 100% 1.0/1 [00:00<00:00, 31.86it/s]\n",
            "libogg-1.3.4         | 206 KB    | : 100% 1.0/1 [00:00<00:00, 15.44it/s]\n",
            "requests-2.27.1      | 53 KB     | : 100% 1.0/1 [00:00<00:00, 20.55it/s]\n",
            "cycler-0.11.0        | 10 KB     | : 100% 1.0/1 [00:00<00:00, 25.44it/s]\n",
            "boost-cpp-1.74.0     | 16.3 MB   | : 100% 1.0/1 [00:06<00:00,  6.47s/it]               \n",
            "liblapack-3.9.0      | 12 KB     | : 100% 1.0/1 [00:00<00:00, 19.13it/s]\n",
            "brotlipy-0.7.0       | 342 KB    | : 100% 1.0/1 [00:00<00:00, 11.82it/s]\n",
            "pycairo-1.21.0       | 116 KB    | : 100% 1.0/1 [00:00<00:00, 18.76it/s]\n",
            "libcurl-7.83.0       | 342 KB    | : 100% 1.0/1 [00:00<00:00, 11.58it/s]\n",
            "pymbar-3.0.6         | 119 KB    | : 100% 1.0/1 [00:00<00:00, 15.52it/s]\n",
            "ca-certificates-2021 | 139 KB    | : 100% 1.0/1 [00:00<00:00, 20.98it/s]\n",
            "libgfortran-ng-11.2. | 23 KB     | : 100% 1.0/1 [00:00<00:00, 25.85it/s]\n",
            "libxcb-1.13          | 391 KB    | : 100% 1.0/1 [00:00<00:00,  6.71it/s]\n",
            "nomkl-1.0            | 4 KB      | : 100% 1.0/1 [00:00<00:00, 36.16it/s]\n",
            "json5-0.9.5          | 20 KB     | : 100% 1.0/1 [00:00<00:00, 31.69it/s]\n",
            "markupsafe-2.1.1     | 22 KB     | : 100% 1.0/1 [00:00<00:00, 32.97it/s]\n",
            "anyio-3.5.0          | 150 KB    | : 100% 1.0/1 [00:00<00:00, 13.07it/s]\n",
            "openff-forcefields-2 | 100 KB    | : 100% 1.0/1 [00:00<00:00, 10.12it/s]\n",
            "sqlite-3.38.5        | 1.5 MB    | : 100% 1.0/1 [00:00<00:00,  3.65it/s]\n",
            "backcall-0.2.0       | 13 KB     | : 100% 1.0/1 [00:00<00:00, 28.33it/s]\n",
            "libxslt-1.1.33       | 522 KB    | : 100% 1.0/1 [00:00<00:00,  6.03it/s]\n",
            "ipympl-0.9.1         | 347 KB    | : 100% 1.0/1 [00:00<00:00,  7.69it/s]\n",
            "packmol-20.010       | 129 KB    | : 100% 1.0/1 [00:00<00:00, 21.89it/s]\n",
            "perl-5.32.1          | 14.4 MB   | : 100% 1.0/1 [00:03<00:00,  3.37s/it]               \n",
            "setuptools-59.8.0    | 1.0 MB    | : 100% 1.0/1 [00:00<00:00,  3.46it/s]\n",
            "libdeflate-1.10      | 77 KB     | : 100% 1.0/1 [00:00<00:00, 18.10it/s]\n",
            "reportlab-3.5.68     | 2.4 MB    | : 100% 1.0/1 [00:00<00:00,  2.20it/s]\n",
            "prompt-toolkit-3.0.2 | 252 KB    | : 100% 1.0/1 [00:00<00:00, 10.00it/s]\n",
            "nbconvert-pandoc-6.5 | 4 KB      | : 100% 1.0/1 [00:00<00:00, 32.22it/s]\n",
            "pandas-1.3.4         | 12.7 MB   | : 100% 1.0/1 [00:02<00:00,  2.99s/it]               \n",
            "matplotlib-base-3.5. | 7.3 MB    | : 100% 1.0/1 [00:01<00:00,  1.42s/it]               \n",
            "keyutils-1.6.1       | 115 KB    | : 100% 1.0/1 [00:00<00:00, 17.43it/s]\n",
            "traitlets-5.1.1      | 82 KB     | : 100% 1.0/1 [00:00<00:00, 20.76it/s]\n",
            "xorg-libxrender-0.9. | 32 KB     | : 100% 1.0/1 [00:00<00:00, 30.92it/s]\n",
            "matplotlib-inline-0. | 11 KB     | : 100% 1.0/1 [00:00<00:00, 29.65it/s]\n",
            "pyqtwebengine-5.12.1 | 175 KB    | : 100% 1.0/1 [00:00<00:00, 13.31it/s]\n",
            "ambertools-22.0      | 102.0 MB  | : 100% 1.0/1 [00:18<00:00, 18.12s/it]               \n",
            "libopus-1.3.1        | 255 KB    | : 100% 1.0/1 [00:00<00:00, 14.43it/s]\n",
            "xorg-renderproto-0.1 | 9 KB      | : 100% 1.0/1 [00:00<00:00, 37.62it/s]\n",
            "_openmp_mutex-4.5    | 23 KB     | : 100% 1.0/1 [00:00<00:00, 26.35it/s]\n",
            "nbconvert-6.5.0      | 6 KB      | : 100% 1.0/1 [00:00<00:00, 26.78it/s]\n",
            "openbabel-3.1.1      | 5.5 MB    | : 100% 1.0/1 [00:01<00:00,  1.08s/it]\n",
            "backports-1.0        | 4 KB      | : 100% 1.0/1 [00:00<00:00, 31.22it/s]\n",
            "libpq-13.5           | 2.8 MB    | : 100% 1.0/1 [00:00<00:00,  1.14it/s]\n",
            "lz4-c-1.9.3          | 179 KB    | : 100% 1.0/1 [00:00<00:00, 13.03it/s]\n",
            "soupsieve-2.3.1      | 33 KB     | : 100% 1.0/1 [00:00<00:00, 29.04it/s]\n",
            "pyqt5-sip-4.19.18    | 310 KB    | : 100% 1.0/1 [00:00<00:00, 12.39it/s]\n",
            "xorg-libxdmcp-1.1.3  | 19 KB     | : 100% 1.0/1 [00:00<00:00, 30.40it/s]\n",
            "websocket-client-1.3 | 41 KB     | : 100% 1.0/1 [00:00<00:00, 25.76it/s]\n",
            "sphinxcontrib-htmlhe | 31 KB     | : 100% 1.0/1 [00:00<00:00, 17.73it/s]\n",
            "ptyprocess-0.7.0     | 16 KB     | : 100% 1.0/1 [00:00<00:00, 31.88it/s]\n",
            "jupyterlab_widgets-1 | 133 KB    | : 100% 1.0/1 [00:00<00:00, 15.09it/s]\n",
            "bleach-5.0.0         | 123 KB    | : 100% 1.0/1 [00:00<00:00, 17.12it/s]\n",
            "sqlalchemy-1.4.36    | 2.3 MB    | : 100% 1.0/1 [00:00<00:00,  1.64it/s]\n",
            "giflib-5.2.1         | 77 KB     | : 100% 1.0/1 [00:00<00:00, 21.18it/s]\n",
            "ocl-icd-2.3.1        | 119 KB    | : 100% 1.0/1 [00:00<00:00, 15.43it/s]\n",
            "nbconvert-core-6.5.0 | 425 KB    | : 100% 1.0/1 [00:00<00:00,  7.97it/s]\n",
            "pthread-stubs-0.4    | 5 KB      | : 100% 1.0/1 [00:00<00:00, 25.82it/s]\n",
            "xorg-libx11-1.7.2    | 941 KB    | : 100% 1.0/1 [00:00<00:00,  5.02it/s]\n",
            "nss-3.77             | 2.1 MB    | : 100% 1.0/1 [00:00<00:00,  2.40it/s]\n",
            "gstreamer-1.18.5     | 2.0 MB    | : 100% 1.0/1 [00:00<00:00,  2.12it/s]\n",
            "parmed-3.4.3         | 974 KB    | : 100% 1.0/1 [00:00<00:00,  3.81it/s]\n",
            "dbus-1.13.6          | 604 KB    | : 100% 1.0/1 [00:00<00:00,  6.83it/s]\n",
            "nest-asyncio-1.5.5   | 9 KB      | : 100% 1.0/1 [00:00<00:00, 31.65it/s]\n",
            "libzlib-1.2.11       | 60 KB     | : 100% 1.0/1 [00:00<00:00, 28.75it/s]\n",
            "libpng-1.6.37        | 306 KB    | : 100% 1.0/1 [00:00<00:00, 11.50it/s]\n",
            "python_abi-3.7       | 4 KB      | : 100% 1.0/1 [00:00<00:00, 36.12it/s]\n",
            "libzip-1.8.0         | 126 KB    | : 100% 1.0/1 [00:00<00:00, 12.61it/s]\n",
            "sphinxcontrib-appleh | 28 KB     | : 100% 1.0/1 [00:00<00:00, 14.93it/s]\n",
            "openff-toolkit-0.10. | 6 KB      | : 100% 1.0/1 [00:00<00:00, 33.46it/s]\n",
            "snowballstemmer-2.2. | 57 KB     | : 100% 1.0/1 [00:00<00:00, 18.78it/s]\n",
            "pyparsing-3.0.8      | 79 KB     | : 100% 1.0/1 [00:00<00:00, 22.29it/s]\n",
            "icu-68.2             | 13.1 MB   | : 100% 1.0/1 [00:02<00:00,  2.18s/it]\n",
            "wheel-0.37.1         | 31 KB     | : 100% 1.0/1 [00:00<00:00, 27.08it/s]\n",
            "tinycss2-1.1.1       | 23 KB     | : 100% 1.0/1 [00:00<00:00, 29.87it/s]\n",
            "brotli-1.0.9         | 18 KB     | : 100% 1.0/1 [00:00<00:00, 30.80it/s]\n",
            "libgcc-ng-11.2.0     | 902 KB    | : 100% 1.0/1 [00:00<00:00,  6.27it/s]\n",
            "jpeg-9e              | 268 KB    | : 100% 1.0/1 [00:00<00:00, 13.26it/s]\n",
            "libllvm11-11.1.0     | 29.1 MB   | : 100% 1.0/1 [00:06<00:00,  6.09s/it]              \n",
            "cffi-1.15.0          | 225 KB    | : 100% 1.0/1 [00:00<00:00, 12.98it/s]\n",
            "cython-0.29.28       | 2.1 MB    | : 100% 1.0/1 [00:00<00:00,  2.11it/s]\n",
            "sphinxcontrib-jsmath | 7 KB      | : 100% 1.0/1 [00:00<00:00, 30.36it/s]\n",
            "fftw-3.3.10          | 6.4 MB    | : 100% 1.0/1 [00:01<00:00,  1.30s/it]\n",
            "libtiff-4.3.0        | 638 KB    | : 100% 1.0/1 [00:00<00:00,  7.05it/s]\n",
            "libxml2-2.9.10       | 774 KB    | : 100% 1.0/1 [00:00<00:00,  1.65it/s]\n",
            "ipython-7.33.0       | 1.1 MB    | : 100% 1.0/1 [00:00<00:00,  3.09it/s]\n",
            "jupyter_client-7.3.1 | 90 KB     | : 100% 1.0/1 [00:00<00:00, 19.56it/s]\n",
            "wcwidth-0.2.5        | 33 KB     | : 100% 1.0/1 [00:00<00:00, 20.43it/s]\n",
            "bzip2-1.0.8          | 484 KB    | : 100% 1.0/1 [00:00<00:00,  9.30it/s]\n",
            "importlib_resources- | 22 KB     | : 100% 1.0/1 [00:00<00:00, 28.54it/s]\n",
            "pixman-0.40.0        | 627 KB    | : 100% 1.0/1 [00:00<00:00,  7.77it/s]\n",
            "Preparing transaction: \\ \b\b| \b\b/ \b\b- \b\b\\ \b\b| \b\b/ \b\b- \b\b\\ \b\b| \b\b/ \b\b- \b\b\\ \b\b| \b\b/ \b\b- \b\b\\ \b\b| \b\b/ \b\b- \b\b\\ \b\b| \b\b/ \b\b- \b\b\\ \b\b| \b\b/ \b\b- \b\b\\ \b\b| \b\b/ \b\bdone\n",
            "Verifying transaction: \\ \b\b| \b\b/ \b\b- \b\b\\ \b\b| \b\b/ \b\b- \b\b\\ \b\b| \b\b/ \b\b- \b\b\\ \b\b| \b\b/ \b\b- \b\b\\ \b\b| \b\b/ \b\b- \b\b\\ \b\b| \b\b/ \b\b- \b\b\\ \b\b| \b\b/ \b\b- \b\b\\ \b\b| \b\b/ \b\b- \b\b\\ \b\b| \b\b/ \b\b- \b\b\\ \b\b| \b\b/ \b\b- \b\b\\ \b\b| \b\b/ \b\b- \b\b\\ \b\b| \b\b/ \b\b- \b\b\\ \b\b| \b\b/ \b\b- \b\b\\ \b\b| \b\b/ \b\b- \b\b\\ \b\b| \b\b/ \b\b- \b\b\\ \b\b| \b\b/ \b\b- \b\b\\ \b\b| \b\b/ \b\b- \b\b\\ \b\b| \b\b/ \b\b- \b\b\\ \b\b| \b\b/ \b\b- \b\b\\ \b\b| \b\b/ \b\b- \b\b\\ \b\b| \b\b/ \b\b- \b\b\\ \b\b| \b\b/ \b\b- \b\b\\ \b\b| \b\b/ \b\b- \b\b\\ \b\b| \b\b/ \b\b- \b\b\\ \b\b| \b\b/ \b\b- \b\b\\ \b\b| \b\b/ \b\b- \b\b\\ \b\b| \b\b/ \b\b- \b\b\\ \b\b| \b\b/ \b\b- \b\b\\ \b\b| \b\bdone\n",
            "Executing transaction: - \b\b\\ \b\b| \b\b/ \b\b- \b\b\\ \b\b| \b\b/ \b\b- \b\b\\ \b\b| \b\b/ \b\b- \b\b\\ \b\b| \b\b/ \b\b- \b\b\\ \b\b| \b\b/ \b\b- \b\b\\ \b\b| \b\b/ \b\b- \b\b\\ \b\b| \b\b/ \b\b- \b\b\\ \b\b| \b\b/ \b\b- \b\b\\ \b\b| \b\b/ \b\b- \b\b\\ \b\b| \b\b/ \b\b- \b\b\\ \b\b| \b\b/ \b\b- \b\b\\ \b\b| \b\b/ By downloading and using the CUDA Toolkit conda packages, you accept the terms and conditions of the CUDA End User License Agreement (EULA): https://docs.nvidia.com/cuda/eula/index.html\n",
            "\n",
            "\b\b- \b\b\\ \b\b| \b\b/ \b\b- \b\b\\ \b\b| \b\b/ \b\b- \b\b\\ Enabling notebook extension jupyter-js-widgets/extension...\n",
            "Paths used for configuration of notebook: \n",
            "    \t/usr/local/envs/openmm/etc/jupyter/nbconfig/notebook.d/jupyter-matplotlib.json\n",
            "    \t/usr/local/envs/openmm/etc/jupyter/nbconfig/notebook.d/widgetsnbextension.json\n",
            "    \t/usr/local/envs/openmm/etc/jupyter/nbconfig/notebook.json\n",
            "Paths used for configuration of notebook: \n",
            "    \t/usr/local/envs/openmm/etc/jupyter/nbconfig/notebook.d/jupyter-matplotlib.json\n",
            "    \t/usr/local/envs/openmm/etc/jupyter/nbconfig/notebook.d/widgetsnbextension.json\n",
            "      - Validating: \u001b[32mOK\u001b[0m\n",
            "Paths used for configuration of notebook: \n",
            "    \t/usr/local/envs/openmm/etc/jupyter/nbconfig/notebook.d/jupyter-matplotlib.json\n",
            "    \t/usr/local/envs/openmm/etc/jupyter/nbconfig/notebook.d/widgetsnbextension.json\n",
            "    \t/usr/local/envs/openmm/etc/jupyter/nbconfig/notebook.json\n",
            "\n",
            "\b\b| \b\b/ \b\b- \b\b\\ \b\b| \b\b/ \b\b- \b\b\\ \b\b| \b\b/ \b\b- \b\b\\ \b\b| \b\b/ \b\b- \b\b\\ \b\b| \b\b/ \b\b- \b\b\\ \b\b| \b\b/ \b\b- \b\b\\ \b\b| \b\b/ \b\b- \b\b\\ \b\b| \b\b/ \b\b- \b\b\\ \b\b| \b\b/ \b\b- \b\b\\ \b\b| \b\b/ \b\b- \b\b\\ \b\b| \b\b/ \b\b- \b\b\\ \b\b| \b\b/ \b\b- \b\b\\ \b\b| \b\b/ \b\b- \b\b\\ \b\b| \b\b/ \b\b- \b\b\\ \b\b| \b\b/ \b\b- \b\b\\ \b\b| \b\b/ \b\b- \b\b\\ \b\b| \b\b/ \b\b- \b\b\\ \b\b| \b\b/ \b\b- \b\b\\ \b\b| \b\b/ \b\b- \b\b\\ \b\b| \b\b/ \b\b- \b\b\\ \b\b| \b\b/ \b\b- \b\b\\ \b\b| \b\b/ \b\b- \b\b\\ \b\b| \b\b/ \b\b- \b\b\\ \b\b| \b\bdone\n",
            "#\n",
            "# To activate this environment, use\n",
            "#\n",
            "#     $ conda activate openmm\n",
            "#\n",
            "# To deactivate an active environment, use\n",
            "#\n",
            "#     $ conda deactivate\n",
            "\n",
            "\n",
            "OpenMM Version: 7.6\n",
            "Git Revision: ad113a0cb37991a2de67a08026cf3b91616bafbe\n",
            "\n",
            "There are 4 Platforms available:\n",
            "\n",
            "1 Reference - Successfully computed forces\n",
            "2 CPU - Successfully computed forces\n",
            "3 CUDA - Successfully computed forces\n",
            "4 OpenCL - Successfully computed forces\n",
            "\n",
            "Median difference in forces between platforms:\n",
            "\n",
            "Reference vs. CPU: 6.294e-06\n",
            "Reference vs. CUDA: 6.73736e-06\n",
            "CPU vs. CUDA: 7.70353e-07\n",
            "Reference vs. OpenCL: 6.76359e-06\n",
            "CPU vs. OpenCL: 8.09227e-07\n",
            "CUDA vs. OpenCL: 2.28121e-07\n",
            "\n",
            "All differences are within tolerance.\n"
          ]
        }
      ]
    },
    {
      "cell_type": "code",
      "source": [
        "# Import Openmm, matplotlib\n",
        "from sys import stdout\n",
        "\n",
        "import matplotlib.pyplot as plt\n",
        "#import mdtraj\n",
        "#import pandas\n",
        "#%matplotlib widget\n",
        "from openmm import *\n",
        "from openmm.app import *\n",
        "from openmm.unit import *"
      ],
      "metadata": {
        "id": "W7kwu1w9JnKb"
      },
      "execution_count": 3,
      "outputs": []
    },
    {
      "cell_type": "code",
      "source": [
        "# Import numpy, scipy, normflow\n",
        "import numpy as np\n",
        "import normflow as nf\n",
        "from tqdm import tqdm\n",
        "\n",
        "# For math and stats operations\n",
        "from scipy.spatial.transform import Rotation as R\n",
        "from scipy.stats import multivariate_normal\n",
        "#import plotly.graph_objs as go\n",
        "#import plotly\n",
        "\n",
        "# For saving and loading\n",
        "import pickle\n",
        "%matplotlib inline"
      ],
      "metadata": {
        "id": "bfqTg2brKBEK"
      },
      "execution_count": 4,
      "outputs": []
    },
    {
      "cell_type": "code",
      "source": [
        "# Import pytorch\n",
        "import torch\n",
        "import torch.nn as nn\n",
        "import torch.nn.functional as F\n",
        "import torch.optim as optim"
      ],
      "metadata": {
        "id": "__fxbBVxKWDJ"
      },
      "execution_count": 5,
      "outputs": []
    },
    {
      "cell_type": "code",
      "source": [
        "# Frequently used definitions\n",
        "dtype = torch.FloatTensor\n",
        "enable_cuda = False\n",
        "device = torch.device('cuda' if torch.cuda.is_available() and enable_cuda else 'cpu')\n",
        "\n",
        "pdbfile = 'alanine-dipeptide.pdb'\n",
        "num_atoms = 22\n",
        "forcefile = 'amber14-all.xml'\n",
        "\n",
        "pklfile = 'aldip_img1024_dim51_nse1_scl0.001_q1.pkl'\n",
        "num_imgs = 64 #1024\n",
        "n_cells = 51\n",
        "noise_sigma = 1\n",
        "blob_sigma = 0.001\n",
        "Q = 1\n",
        "\n",
        "num_flows = 5\n",
        "beta = 1.0\n",
        "num_epochs = 1000\n",
        "\n",
        "kB = 1.3807e-26\n",
        "Avo = 6.0221408e+23\n",
        "T = 300\n",
        "kBxAvoxT = kB*Avo*T\n",
        "print(kBxAvoxT)"
      ],
      "metadata": {
        "id": "Gt_m_BOskCvS",
        "colab": {
          "base_uri": "https://localhost:8080/"
        },
        "outputId": "83f7a4b4-b557-4713-a5de-593fb8923b68"
      },
      "execution_count": 66,
      "outputs": [
        {
          "output_type": "stream",
          "name": "stdout",
          "text": [
            "2.4944309407680003\n"
          ]
        }
      ]
    },
    {
      "cell_type": "markdown",
      "source": [
        "# Load images and define backpropagable potential energy function"
      ],
      "metadata": {
        "id": "V6ZCoh5lnoxr"
      }
    },
    {
      "cell_type": "code",
      "source": [
        "pdb = PDBFile(pdbfile)\n",
        "forcefield = ForceField(forcefile)\n",
        "system = forcefield.createSystem(pdb.topology, nonbondedCutoff=3*nanometer, constraints=HBonds)\n",
        "integrator = LangevinIntegrator(T*kelvin, 1/picosecond, 2*femtoseconds)\n",
        "simulation = Simulation(pdb.topology, system, integrator)\n",
        "simulation.context.setPositions(pdb.positions)\n",
        "simulation.minimizeEnergy()\n",
        "#simulation.reporters.append(PDBReporter('output.pdb', 1000))\n",
        "#simulation.reporters.append(StateDataReporter(stdout, 1000, step=True, volume=True, density=True,\n",
        "#        potentialEnergy=True, temperature=True))\n",
        "\n",
        "for i in range(1):\n",
        "    simulation.step(1000)\n",
        "    state0 = simulation.context.getState(getPositions=True, getForces=True, getEnergy=True)\n",
        "\n",
        "    print(\"Potential energy\")\n",
        "    print(state0.getPotentialEnergy())\n",
        "\n",
        "    print(\"Atomic positions\")\n",
        "    print(state0.getPositions(asNumpy=True))\n",
        "\n",
        "    print(\"Volume\")\n",
        "    print(state0.getPeriodicBoxVolume())\n",
        "\n",
        "    print(\"Forces\")\n",
        "    print(state0.getForces(asNumpy=True))"
      ],
      "metadata": {
        "colab": {
          "base_uri": "https://localhost:8080/"
        },
        "id": "tVPkLpID4oxE",
        "outputId": "7777f210-7670-4742-ca08-db5bf2740faa"
      },
      "execution_count": 7,
      "outputs": [
        {
          "output_type": "stream",
          "name": "stdout",
          "text": [
            "Potential energy\n",
            "-24.869293212890625 kJ/mol\n",
            "Atomic positions\n",
            "[[ 0.08444528  0.39079157  0.05018006]\n",
            " [ 0.12018407  0.32067782 -0.02523791]\n",
            " [ 0.09240136  0.37301415 -0.11672583]\n",
            " [ 0.08141358  0.21930629 -0.01515505]\n",
            " [ 0.26634103  0.32122466 -0.00963441]\n",
            " [ 0.3222661   0.21172172  0.00725147]\n",
            " [ 0.33640376  0.43293455 -0.03383241]\n",
            " [ 0.29238892  0.50952947 -0.08279122]\n",
            " [ 0.484799    0.4458954  -0.02273809]\n",
            " [ 0.51997381  0.38576537  0.06109582]\n",
            " [ 0.55083674  0.38701433 -0.14933245]\n",
            " [ 0.52573824  0.44959709 -0.23497395]\n",
            " [ 0.65846986  0.39416522 -0.1336799 ]\n",
            " [ 0.52447224  0.2823979  -0.16486679]\n",
            " [ 0.52593297  0.58929569 -0.00670362]\n",
            " [ 0.47486755  0.67738765 -0.07552499]\n",
            " [ 0.62553698  0.60972106  0.07919698]\n",
            " [ 0.65772122  0.52501231  0.12380192]\n",
            " [ 0.68097657  0.7478587   0.11378676]\n",
            " [ 0.72545749  0.80319214  0.03107786]\n",
            " [ 0.59036738  0.80635792  0.12956171]\n",
            " [ 0.74995852  0.73271292  0.19681142]] nm\n",
            "Volume\n",
            "8.0 nm**3\n",
            "Forces\n",
            "[[ -275.44644248  -524.99610186   282.90170383]\n",
            " [ -747.22660773  1728.77261269   180.86200278]\n",
            " [   47.77218835  -576.36567497  -279.32020414]\n",
            " [ -183.96131163    80.25184646   -53.26598287]\n",
            " [ 1897.36061166 -1490.91443604  -815.47291613]\n",
            " [ -226.24132761   901.87156754   498.42614698]\n",
            " [  690.32810413   164.08148342  -238.34529263]\n",
            " [ -303.40633774     5.04521942   370.44199085]\n",
            " [-1269.82117848 -1586.04925852  -688.11533117]\n",
            " [  -78.9217185    135.87856081   179.21745473]\n",
            " [  244.28416307   532.42507972   467.73905867]\n",
            " [ -119.19277215  -190.11355561  -149.74552339]\n",
            " [   51.11582513  -154.33947021  -180.7101219 ]\n",
            " [ -154.46989481    14.93157175   -11.6309918 ]\n",
            " [  372.92337155   609.4374269    -57.93811998]\n",
            " [  -94.31035484   165.05955897   223.37145917]\n",
            " [  526.77456474  1550.90175778  -196.46617913]\n",
            " [  442.30832624   426.08728856   327.20930696]\n",
            " [-1371.66288733 -2158.30564797  -733.46286082]\n",
            " [  385.82235956  -533.45339775  -212.15759516]\n",
            " [  256.14249802   280.94338989   871.23568404]\n",
            " [  -90.17115402   618.85018063   215.22625017]] kJ/(nm mol)\n"
          ]
        }
      ]
    },
    {
      "cell_type": "code",
      "source": [
        "with open(pklfile, 'rb') as inp:\n",
        "    rot_mats = pickle.load(inp)[0:num_imgs]\n",
        "    pot_energies = pickle.load(inp)[0:num_imgs]\n",
        "    forces_list = pickle.load(inp)[0:num_imgs]\n",
        "    pos_list = pickle.load(inp)[0:num_imgs]\n",
        "    img_list = pickle.load(inp)[0:num_imgs]\n",
        "\n",
        "for idx, img in enumerate(img_list):\n",
        "    if idx % 8 == 0:\n",
        "        c = plt.imshow(img, cmap ='gray', vmin = 0, vmax = np.abs(img).max(),\\\n",
        "                        extent = [-Q, Q, -Q, Q], interpolation = 'nearest', origin = 'lower')\n",
        "        plt.colorbar(c)\n",
        "\n",
        "        plt.title(f'Cryo-EM Image {idx+1}', fontweight = \"bold\")\n",
        "        plt.show()"
      ],
      "metadata": {
        "id": "jbZ0tHBInq7E",
        "colab": {
          "base_uri": "https://localhost:8080/",
          "height": 1000
        },
        "outputId": "b189d3da-e891-4650-ffc4-5cc306215ae5"
      },
      "execution_count": 15,
      "outputs": [
        {
          "output_type": "display_data",
          "data": {
            "text/plain": [
              "<Figure size 432x288 with 2 Axes>"
            ],
            "image/png": "[encoded data removed]"
          },
          "metadata": {
            "needs_background": "light"
          }
        },
        {
          "output_type": "display_data",
          "data": {
            "text/plain": [
              "<Figure size 432x288 with 2 Axes>"
            ],
            "image/png": "[encoded data removed]"
          },
          "metadata": {
            "needs_background": "light"
          }
        },
        {
          "output_type": "display_data",
          "data": {
            "text/plain": [
              "<Figure size 432x288 with 2 Axes>"
            ],
            "image/png": "[encoded data removed]"
          },
          "metadata": {
            "needs_background": "light"
          }
        },
        {
          "output_type": "display_data",
          "data": {
            "text/plain": [
              "<Figure size 432x288 with 2 Axes>"
            ],
            "image/png": "[encoded data removed]"
          },
          "metadata": {
            "needs_background": "light"
          }
        },
        {
          "output_type": "display_data",
          "data": {
            "text/plain": [
              "<Figure size 432x288 with 2 Axes>"
            ],
            "image/png": "[encoded data removed]"
          },
          "metadata": {
            "needs_background": "light"
          }
        },
        {
          "output_type": "display_data",
          "data": {
            "text/plain": [
              "<Figure size 432x288 with 2 Axes>"
            ],
            "image/png": "[encoded data removed]"
          },
          "metadata": {
            "needs_background": "light"
          }
        },
        {
          "output_type": "display_data",
          "data": {
            "text/plain": [
              "<Figure size 432x288 with 2 Axes>"
            ],
            "image/png": "[encoded data removed]"
          },
          "metadata": {
            "needs_background": "light"
          }
        },
        {
          "output_type": "display_data",
          "data": {
            "text/plain": [
              "<Figure size 432x288 with 2 Axes>"
            ],
            "image/png": "[encoded data removed]"
          },
          "metadata": {
            "needs_background": "light"
          }
        }
      ]
    },
    {
      "cell_type": "code",
      "source": [
        "class pot_energy(torch.autograd.Function):\n",
        "    \"\"\"\n",
        "    We can implement our own custom autograd Functions by subclassing\n",
        "    torch.autograd.Function and implementing the forward and backward passes\n",
        "    which operate on Tensors.\n",
        "    \"\"\"\n",
        "\n",
        "    @staticmethod\n",
        "    def forward(ctx, input):\n",
        "        \"\"\"\n",
        "        In the forward pass we receive a Tensor containing the input and return\n",
        "        a Tensor containing the output. ctx is a context object that can be used\n",
        "        to stash information for backward computation. You can cache arbitrary\n",
        "        objects for use in the backward pass using the ctx.save_for_backward method.\n",
        "        \"\"\"\n",
        "        reshaped_input = input.reshape(22, 3)\n",
        "        ctx.save_for_backward(reshaped_input)\n",
        "\n",
        "        simulation.context.setPositions(reshaped_input.cpu().numpy())\n",
        "        state = simulation.context.getState(getPositions=True, getForces=True, getEnergy=True)\n",
        "        return torch.tensor(state.getPotentialEnergy()._value).to(device)\n",
        "\n",
        "    @staticmethod\n",
        "    def backward(ctx, grad_output):\n",
        "        \"\"\"\n",
        "        In the backward pass we receive a Tensor containing the gradient of the loss\n",
        "        with respect to the output, and we need to compute the gradient of the loss\n",
        "        with respect to the input.\n",
        "        \"\"\"\n",
        "        reshaped_input, = ctx.saved_tensors\n",
        "\n",
        "        simulation.context.setPositions(reshaped_input.cpu().numpy())\n",
        "        state = simulation.context.getState(getPositions=True, getForces=True, getEnergy=True)\n",
        "        return -grad_output * torch.tensor(state.getForces(asNumpy=True)._value).reshape(-1, 22*3).to(device)"
      ],
      "metadata": {
        "id": "qcfD1BSOLG10"
      },
      "execution_count": 67,
      "outputs": []
    },
    {
      "cell_type": "code",
      "source": [
        "def torch_createblobs(coords, Q=Q, n_cells=n_cells, blob_sigma=blob_sigma, rot_mat=torch.eye(3)):\n",
        "    # Grids of x and y points\n",
        "    x = torch.linspace(-Q, Q, n_cells, device=device)\n",
        "    y = torch.linspace(-Q, Q, n_cells, device=device)\n",
        "    # Create a 2-D meshgrid of (x, y) coordinates.\n",
        "    x, y = torch.meshgrid(x, y, indexing='xy')\n",
        "\n",
        "    normals = torch.zeros_like(x, device=device)\n",
        "\n",
        "    # Creating mixture of gaussians\n",
        "    pos = torch.empty(x.shape + (2,), device=device).double()\n",
        "    pos[:, :, 0] = x\n",
        "    pos[:, :, 1] = y\n",
        "\n",
        "    new_coords = coords @ rot_mat.T\n",
        "\n",
        "    for row in new_coords.double():\n",
        "        var = torch.distributions.multivariate_normal.MultivariateNormal(row[0:2], blob_sigma*torch.eye(2, device=device).double())\n",
        "        normals = normals + torch.exp(var.log_prob(pos))\n",
        "\n",
        "    return normals/len(new_coords)"
      ],
      "metadata": {
        "id": "BuGvsbJc0xK1"
      },
      "execution_count": 68,
      "outputs": []
    },
    {
      "cell_type": "markdown",
      "source": [
        "# NF Pipeline"
      ],
      "metadata": {
        "id": "9XFvHRiX1WSt"
      }
    },
    {
      "cell_type": "code",
      "source": [
        "# Fixing template, latent vectors, and flows\n",
        "x0 = torch.tensor(state0.getPositions(asNumpy=True)._value).to(device)\n",
        "loss_hist = []\n",
        "\n",
        "latentvecs = []\n",
        "latentvec_logprobs = []\n",
        "var = torch.distributions.multivariate_normal.MultivariateNormal(torch.zeros(num_atoms*3).to(device), torch.eye(num_atoms*3).to(device))\n",
        "\n",
        "for _ in range(num_imgs):\n",
        "    latentvecs.append(torch.randn_like(x0).reshape(-1, num_atoms*3).type(dtype).to(device))\n",
        "    latentvec_logprobs.append(var.log_prob(latentvecs[-1]))\n",
        "\n",
        "flows = []\n",
        "for _ in range(num_flows):\n",
        "    flows += [nf.flows.Planar((num_atoms*3,)).to(device)]"
      ],
      "metadata": {
        "id": "o8ItNem0sc5G"
      },
      "execution_count": 75,
      "outputs": []
    },
    {
      "cell_type": "code",
      "source": [
        "class nfmodel(nn.Module):\n",
        "    def __init__(self, flows = flows, noise_sigma = noise_sigma, template = x0):\n",
        "        super().__init__()\n",
        "\n",
        "        self.flows = nn.ModuleList(flows)\n",
        "        self.noise_sigma = noise_sigma\n",
        "        self.template = template\n",
        "\n",
        "        #self.mlp = nn.Sequential(\n",
        "        #    nn.Linear(num_atoms*3, 16),\n",
        "        #    nn.Tanh(),\n",
        "        #    nn.Linear(16, num_atoms*3))\n",
        "\n",
        "\n",
        "    def forward(self, z):\n",
        "        for flow in self.flows:\n",
        "            z, _ = flow(z)\n",
        "\n",
        "        return self.template + z.reshape(22, 3)\n",
        "\n",
        "\n",
        "    def reverse_kl(self, z, logprob_z, target, rot_mat, beta = beta):\n",
        "        log_q = 0#logprob_z\n",
        "\n",
        "        for flow in self.flows:\n",
        "            z, log_det = flow(z)\n",
        "            log_q -= log_det\n",
        "\n",
        "        recons_coords = self.template + z.reshape(22, 3)\n",
        "        img_mseloss = torch.norm(target - torch_createblobs(recons_coords, rot_mat = rot_mat))**2\n",
        "        return pot_energy.apply(recons_coords.reshape(-1, 22*3))/kBxAvoxT + log_q +\\\n",
        "                    beta * img_mseloss/(2*self.noise_sigma**2)\n",
        "\n",
        "\n",
        "model = nfmodel(flows = flows).to(device)"
      ],
      "metadata": {
        "id": "CXRW4zQuiR4B"
      },
      "execution_count": 76,
      "outputs": []
    },
    {
      "cell_type": "code",
      "source": [
        "#criterion = pot_energy.apply\n",
        "#outputs = []\n",
        "\n",
        "optimizer = torch.optim.Adam(model.parameters(),\n",
        "                             lr=2e-2, \n",
        "                             weight_decay=1e-5)\n",
        "\n",
        "\n",
        "for epoch in tqdm(range(num_epochs)):\n",
        "    loss = 0\n",
        "    for latentvec, latentvec_logprob, target, rot_mat in zip(latentvecs, latentvec_logprobs, img_list, rot_mats):\n",
        "        loss += model.reverse_kl(latentvec, latentvec_logprob, torch.from_numpy(target).to(device), torch.from_numpy(rot_mat).to(device))\n",
        "            \n",
        "    optimizer.zero_grad()\n",
        "    loss.backward()\n",
        "    optimizer.step()\n",
        "\n",
        "    if epoch % 10 == 0:\n",
        "        print(f'Epoch:{epoch+1}, Loss:{loss.item():.4f}')\n",
        "\n",
        "    loss_hist.append(loss.cpu().data.numpy())"
      ],
      "metadata": {
        "id": "k1sH3mt-iWtS",
        "colab": {
          "base_uri": "https://localhost:8080/"
        },
        "outputId": "50e0d696-fc66-43c1-b6de-5188e49efad3"
      },
      "execution_count": 77,
      "outputs": [
        {
          "output_type": "stream",
          "name": "stderr",
          "text": [
            "  0%|          | 1/1000 [00:02<34:09,  2.05s/it]"
          ]
        },
        {
          "output_type": "stream",
          "name": "stdout",
          "text": [
            "Epoch:1, Loss:509034240.0000\n"
          ]
        },
        {
          "output_type": "stream",
          "name": "stderr",
          "text": [
            "  1%|          | 11/1000 [00:21<32:32,  1.97s/it]"
          ]
        },
        {
          "output_type": "stream",
          "name": "stdout",
          "text": [
            "Epoch:11, Loss:188850848.0000\n"
          ]
        },
        {
          "output_type": "stream",
          "name": "stderr",
          "text": [
            "  2%|▏         | 21/1000 [00:41<32:12,  1.97s/it]"
          ]
        },
        {
          "output_type": "stream",
          "name": "stdout",
          "text": [
            "Epoch:21, Loss:301856960.0000\n"
          ]
        },
        {
          "output_type": "stream",
          "name": "stderr",
          "text": [
            "  3%|▎         | 31/1000 [01:01<31:48,  1.97s/it]"
          ]
        },
        {
          "output_type": "stream",
          "name": "stdout",
          "text": [
            "Epoch:31, Loss:269838496.0000\n"
          ]
        },
        {
          "output_type": "stream",
          "name": "stderr",
          "text": [
            "  4%|▍         | 41/1000 [01:20<30:53,  1.93s/it]"
          ]
        },
        {
          "output_type": "stream",
          "name": "stdout",
          "text": [
            "Epoch:41, Loss:257594512.0000\n"
          ]
        },
        {
          "output_type": "stream",
          "name": "stderr",
          "text": [
            "  5%|▌         | 51/1000 [01:40<31:49,  2.01s/it]"
          ]
        },
        {
          "output_type": "stream",
          "name": "stdout",
          "text": [
            "Epoch:51, Loss:388250912.0000\n"
          ]
        },
        {
          "output_type": "stream",
          "name": "stderr",
          "text": [
            "  6%|▌         | 61/1000 [02:00<31:00,  1.98s/it]"
          ]
        },
        {
          "output_type": "stream",
          "name": "stdout",
          "text": [
            "Epoch:61, Loss:430877408.0000\n"
          ]
        },
        {
          "output_type": "stream",
          "name": "stderr",
          "text": [
            "  7%|▋         | 71/1000 [02:20<30:38,  1.98s/it]"
          ]
        },
        {
          "output_type": "stream",
          "name": "stdout",
          "text": [
            "Epoch:71, Loss:338882848.0000\n"
          ]
        },
        {
          "output_type": "stream",
          "name": "stderr",
          "text": [
            "  8%|▊         | 81/1000 [02:40<30:33,  2.00s/it]"
          ]
        },
        {
          "output_type": "stream",
          "name": "stdout",
          "text": [
            "Epoch:81, Loss:283843680.0000\n"
          ]
        },
        {
          "output_type": "stream",
          "name": "stderr",
          "text": [
            "  9%|▉         | 91/1000 [02:59<29:41,  1.96s/it]"
          ]
        },
        {
          "output_type": "stream",
          "name": "stdout",
          "text": [
            "Epoch:91, Loss:254352448.0000\n"
          ]
        },
        {
          "output_type": "stream",
          "name": "stderr",
          "text": [
            " 10%|█         | 101/1000 [03:19<29:10,  1.95s/it]"
          ]
        },
        {
          "output_type": "stream",
          "name": "stdout",
          "text": [
            "Epoch:101, Loss:236796448.0000\n"
          ]
        },
        {
          "output_type": "stream",
          "name": "stderr",
          "text": [
            " 11%|█         | 111/1000 [03:38<29:07,  1.97s/it]"
          ]
        },
        {
          "output_type": "stream",
          "name": "stdout",
          "text": [
            "Epoch:111, Loss:226650832.0000\n"
          ]
        },
        {
          "output_type": "stream",
          "name": "stderr",
          "text": [
            " 12%|█▏        | 121/1000 [03:58<28:45,  1.96s/it]"
          ]
        },
        {
          "output_type": "stream",
          "name": "stdout",
          "text": [
            "Epoch:121, Loss:219171616.0000\n"
          ]
        },
        {
          "output_type": "stream",
          "name": "stderr",
          "text": [
            " 13%|█▎        | 131/1000 [04:18<28:36,  1.98s/it]"
          ]
        },
        {
          "output_type": "stream",
          "name": "stdout",
          "text": [
            "Epoch:131, Loss:215146880.0000\n"
          ]
        },
        {
          "output_type": "stream",
          "name": "stderr",
          "text": [
            " 14%|█▍        | 141/1000 [04:37<27:54,  1.95s/it]"
          ]
        },
        {
          "output_type": "stream",
          "name": "stdout",
          "text": [
            "Epoch:141, Loss:211916240.0000\n"
          ]
        },
        {
          "output_type": "stream",
          "name": "stderr",
          "text": [
            " 15%|█▌        | 151/1000 [04:57<28:11,  1.99s/it]"
          ]
        },
        {
          "output_type": "stream",
          "name": "stdout",
          "text": [
            "Epoch:151, Loss:209269904.0000\n"
          ]
        },
        {
          "output_type": "stream",
          "name": "stderr",
          "text": [
            " 16%|█▌        | 161/1000 [05:17<28:00,  2.00s/it]"
          ]
        },
        {
          "output_type": "stream",
          "name": "stdout",
          "text": [
            "Epoch:161, Loss:207127520.0000\n"
          ]
        },
        {
          "output_type": "stream",
          "name": "stderr",
          "text": [
            " 17%|█▋        | 171/1000 [05:37<27:23,  1.98s/it]"
          ]
        },
        {
          "output_type": "stream",
          "name": "stdout",
          "text": [
            "Epoch:171, Loss:205302048.0000\n"
          ]
        },
        {
          "output_type": "stream",
          "name": "stderr",
          "text": [
            " 18%|█▊        | 181/1000 [05:57<27:12,  1.99s/it]"
          ]
        },
        {
          "output_type": "stream",
          "name": "stdout",
          "text": [
            "Epoch:181, Loss:203885184.0000\n"
          ]
        },
        {
          "output_type": "stream",
          "name": "stderr",
          "text": [
            " 19%|█▉        | 191/1000 [06:16<26:15,  1.95s/it]"
          ]
        },
        {
          "output_type": "stream",
          "name": "stdout",
          "text": [
            "Epoch:191, Loss:202211024.0000\n"
          ]
        },
        {
          "output_type": "stream",
          "name": "stderr",
          "text": [
            " 20%|██        | 201/1000 [06:36<26:06,  1.96s/it]"
          ]
        },
        {
          "output_type": "stream",
          "name": "stdout",
          "text": [
            "Epoch:201, Loss:200688576.0000\n"
          ]
        },
        {
          "output_type": "stream",
          "name": "stderr",
          "text": [
            " 21%|██        | 211/1000 [06:56<25:50,  1.97s/it]"
          ]
        },
        {
          "output_type": "stream",
          "name": "stdout",
          "text": [
            "Epoch:211, Loss:199295744.0000\n"
          ]
        },
        {
          "output_type": "stream",
          "name": "stderr",
          "text": [
            " 22%|██▏       | 221/1000 [07:16<25:39,  1.98s/it]"
          ]
        },
        {
          "output_type": "stream",
          "name": "stdout",
          "text": [
            "Epoch:221, Loss:198089760.0000\n"
          ]
        },
        {
          "output_type": "stream",
          "name": "stderr",
          "text": [
            " 23%|██▎       | 231/1000 [07:35<25:27,  1.99s/it]"
          ]
        },
        {
          "output_type": "stream",
          "name": "stdout",
          "text": [
            "Epoch:231, Loss:196979184.0000\n"
          ]
        },
        {
          "output_type": "stream",
          "name": "stderr",
          "text": [
            " 24%|██▍       | 241/1000 [07:55<25:08,  1.99s/it]"
          ]
        },
        {
          "output_type": "stream",
          "name": "stdout",
          "text": [
            "Epoch:241, Loss:195926448.0000\n"
          ]
        },
        {
          "output_type": "stream",
          "name": "stderr",
          "text": [
            " 25%|██▌       | 251/1000 [08:15<25:09,  2.01s/it]"
          ]
        },
        {
          "output_type": "stream",
          "name": "stdout",
          "text": [
            "Epoch:251, Loss:194898512.0000\n"
          ]
        },
        {
          "output_type": "stream",
          "name": "stderr",
          "text": [
            " 26%|██▌       | 261/1000 [08:35<24:24,  1.98s/it]"
          ]
        },
        {
          "output_type": "stream",
          "name": "stdout",
          "text": [
            "Epoch:261, Loss:193868976.0000\n"
          ]
        },
        {
          "output_type": "stream",
          "name": "stderr",
          "text": [
            " 27%|██▋       | 271/1000 [08:55<24:05,  1.98s/it]"
          ]
        },
        {
          "output_type": "stream",
          "name": "stdout",
          "text": [
            "Epoch:271, Loss:192818560.0000\n"
          ]
        },
        {
          "output_type": "stream",
          "name": "stderr",
          "text": [
            " 28%|██▊       | 281/1000 [09:14<23:30,  1.96s/it]"
          ]
        },
        {
          "output_type": "stream",
          "name": "stdout",
          "text": [
            "Epoch:281, Loss:191739040.0000\n"
          ]
        },
        {
          "output_type": "stream",
          "name": "stderr",
          "text": [
            " 29%|██▉       | 291/1000 [09:34<23:18,  1.97s/it]"
          ]
        },
        {
          "output_type": "stream",
          "name": "stdout",
          "text": [
            "Epoch:291, Loss:190664336.0000\n"
          ]
        },
        {
          "output_type": "stream",
          "name": "stderr",
          "text": [
            " 30%|███       | 301/1000 [09:54<23:13,  1.99s/it]"
          ]
        },
        {
          "output_type": "stream",
          "name": "stdout",
          "text": [
            "Epoch:301, Loss:189607936.0000\n"
          ]
        },
        {
          "output_type": "stream",
          "name": "stderr",
          "text": [
            " 31%|███       | 311/1000 [10:14<22:48,  1.99s/it]"
          ]
        },
        {
          "output_type": "stream",
          "name": "stdout",
          "text": [
            "Epoch:311, Loss:188612112.0000\n"
          ]
        },
        {
          "output_type": "stream",
          "name": "stderr",
          "text": [
            " 32%|███▏      | 321/1000 [10:34<22:34,  1.99s/it]"
          ]
        },
        {
          "output_type": "stream",
          "name": "stdout",
          "text": [
            "Epoch:321, Loss:187782976.0000\n"
          ]
        },
        {
          "output_type": "stream",
          "name": "stderr",
          "text": [
            " 33%|███▎      | 331/1000 [10:54<22:03,  1.98s/it]"
          ]
        },
        {
          "output_type": "stream",
          "name": "stdout",
          "text": [
            "Epoch:331, Loss:187068240.0000\n"
          ]
        },
        {
          "output_type": "stream",
          "name": "stderr",
          "text": [
            " 34%|███▍      | 341/1000 [11:13<21:13,  1.93s/it]"
          ]
        },
        {
          "output_type": "stream",
          "name": "stdout",
          "text": [
            "Epoch:341, Loss:186357104.0000\n"
          ]
        },
        {
          "output_type": "stream",
          "name": "stderr",
          "text": [
            " 35%|███▌      | 351/1000 [11:33<21:07,  1.95s/it]"
          ]
        },
        {
          "output_type": "stream",
          "name": "stdout",
          "text": [
            "Epoch:351, Loss:185669680.0000\n"
          ]
        },
        {
          "output_type": "stream",
          "name": "stderr",
          "text": [
            " 36%|███▌      | 361/1000 [11:53<21:07,  1.98s/it]"
          ]
        },
        {
          "output_type": "stream",
          "name": "stdout",
          "text": [
            "Epoch:361, Loss:184995392.0000\n"
          ]
        },
        {
          "output_type": "stream",
          "name": "stderr",
          "text": [
            " 37%|███▋      | 371/1000 [12:12<20:29,  1.96s/it]"
          ]
        },
        {
          "output_type": "stream",
          "name": "stdout",
          "text": [
            "Epoch:371, Loss:184341520.0000\n"
          ]
        },
        {
          "output_type": "stream",
          "name": "stderr",
          "text": [
            " 38%|███▊      | 381/1000 [12:32<20:12,  1.96s/it]"
          ]
        },
        {
          "output_type": "stream",
          "name": "stdout",
          "text": [
            "Epoch:381, Loss:183727680.0000\n"
          ]
        },
        {
          "output_type": "stream",
          "name": "stderr",
          "text": [
            " 39%|███▉      | 391/1000 [12:52<20:03,  1.98s/it]"
          ]
        },
        {
          "output_type": "stream",
          "name": "stdout",
          "text": [
            "Epoch:391, Loss:183161040.0000\n"
          ]
        },
        {
          "output_type": "stream",
          "name": "stderr",
          "text": [
            " 40%|████      | 401/1000 [13:12<19:38,  1.97s/it]"
          ]
        },
        {
          "output_type": "stream",
          "name": "stdout",
          "text": [
            "Epoch:401, Loss:182641504.0000\n"
          ]
        },
        {
          "output_type": "stream",
          "name": "stderr",
          "text": [
            " 41%|████      | 411/1000 [13:32<19:32,  1.99s/it]"
          ]
        },
        {
          "output_type": "stream",
          "name": "stdout",
          "text": [
            "Epoch:411, Loss:182150368.0000\n"
          ]
        },
        {
          "output_type": "stream",
          "name": "stderr",
          "text": [
            " 42%|████▏     | 421/1000 [13:51<19:09,  1.98s/it]"
          ]
        },
        {
          "output_type": "stream",
          "name": "stdout",
          "text": [
            "Epoch:421, Loss:181671136.0000\n"
          ]
        },
        {
          "output_type": "stream",
          "name": "stderr",
          "text": [
            " 43%|████▎     | 431/1000 [14:11<18:37,  1.96s/it]"
          ]
        },
        {
          "output_type": "stream",
          "name": "stdout",
          "text": [
            "Epoch:431, Loss:181200304.0000\n"
          ]
        },
        {
          "output_type": "stream",
          "name": "stderr",
          "text": [
            " 44%|████▍     | 441/1000 [14:30<18:09,  1.95s/it]"
          ]
        },
        {
          "output_type": "stream",
          "name": "stdout",
          "text": [
            "Epoch:441, Loss:180737728.0000\n"
          ]
        },
        {
          "output_type": "stream",
          "name": "stderr",
          "text": [
            " 45%|████▌     | 451/1000 [14:50<18:03,  1.97s/it]"
          ]
        },
        {
          "output_type": "stream",
          "name": "stdout",
          "text": [
            "Epoch:451, Loss:180286736.0000\n"
          ]
        },
        {
          "output_type": "stream",
          "name": "stderr",
          "text": [
            " 46%|████▌     | 461/1000 [15:10<17:35,  1.96s/it]"
          ]
        },
        {
          "output_type": "stream",
          "name": "stdout",
          "text": [
            "Epoch:461, Loss:179854080.0000\n"
          ]
        },
        {
          "output_type": "stream",
          "name": "stderr",
          "text": [
            " 47%|████▋     | 471/1000 [15:29<17:17,  1.96s/it]"
          ]
        },
        {
          "output_type": "stream",
          "name": "stdout",
          "text": [
            "Epoch:471, Loss:179445376.0000\n"
          ]
        },
        {
          "output_type": "stream",
          "name": "stderr",
          "text": [
            " 48%|████▊     | 481/1000 [15:49<16:58,  1.96s/it]"
          ]
        },
        {
          "output_type": "stream",
          "name": "stdout",
          "text": [
            "Epoch:481, Loss:179060240.0000\n"
          ]
        },
        {
          "output_type": "stream",
          "name": "stderr",
          "text": [
            " 49%|████▉     | 491/1000 [16:09<16:46,  1.98s/it]"
          ]
        },
        {
          "output_type": "stream",
          "name": "stdout",
          "text": [
            "Epoch:491, Loss:178693904.0000\n"
          ]
        },
        {
          "output_type": "stream",
          "name": "stderr",
          "text": [
            " 50%|█████     | 501/1000 [16:28<16:21,  1.97s/it]"
          ]
        },
        {
          "output_type": "stream",
          "name": "stdout",
          "text": [
            "Epoch:501, Loss:178341984.0000\n"
          ]
        },
        {
          "output_type": "stream",
          "name": "stderr",
          "text": [
            " 51%|█████     | 511/1000 [16:48<15:59,  1.96s/it]"
          ]
        },
        {
          "output_type": "stream",
          "name": "stdout",
          "text": [
            "Epoch:511, Loss:178001168.0000\n"
          ]
        },
        {
          "output_type": "stream",
          "name": "stderr",
          "text": [
            " 52%|█████▏    | 521/1000 [17:08<15:32,  1.95s/it]"
          ]
        },
        {
          "output_type": "stream",
          "name": "stdout",
          "text": [
            "Epoch:521, Loss:177669056.0000\n"
          ]
        },
        {
          "output_type": "stream",
          "name": "stderr",
          "text": [
            " 53%|█████▎    | 531/1000 [17:27<15:25,  1.97s/it]"
          ]
        },
        {
          "output_type": "stream",
          "name": "stdout",
          "text": [
            "Epoch:531, Loss:177343728.0000\n"
          ]
        },
        {
          "output_type": "stream",
          "name": "stderr",
          "text": [
            " 54%|█████▍    | 541/1000 [17:47<14:46,  1.93s/it]"
          ]
        },
        {
          "output_type": "stream",
          "name": "stdout",
          "text": [
            "Epoch:541, Loss:177023424.0000\n"
          ]
        },
        {
          "output_type": "stream",
          "name": "stderr",
          "text": [
            " 55%|█████▌    | 551/1000 [18:06<14:31,  1.94s/it]"
          ]
        },
        {
          "output_type": "stream",
          "name": "stdout",
          "text": [
            "Epoch:551, Loss:176706832.0000\n"
          ]
        },
        {
          "output_type": "stream",
          "name": "stderr",
          "text": [
            " 56%|█████▌    | 561/1000 [18:26<14:04,  1.92s/it]"
          ]
        },
        {
          "output_type": "stream",
          "name": "stdout",
          "text": [
            "Epoch:561, Loss:176392736.0000\n"
          ]
        },
        {
          "output_type": "stream",
          "name": "stderr",
          "text": [
            " 57%|█████▋    | 571/1000 [18:45<14:15,  1.99s/it]"
          ]
        },
        {
          "output_type": "stream",
          "name": "stdout",
          "text": [
            "Epoch:571, Loss:176078944.0000\n"
          ]
        },
        {
          "output_type": "stream",
          "name": "stderr",
          "text": [
            " 58%|█████▊    | 581/1000 [19:05<13:42,  1.96s/it]"
          ]
        },
        {
          "output_type": "stream",
          "name": "stdout",
          "text": [
            "Epoch:581, Loss:175764224.0000\n"
          ]
        },
        {
          "output_type": "stream",
          "name": "stderr",
          "text": [
            " 59%|█████▉    | 591/1000 [19:25<13:30,  1.98s/it]"
          ]
        },
        {
          "output_type": "stream",
          "name": "stdout",
          "text": [
            "Epoch:591, Loss:175446960.0000\n"
          ]
        },
        {
          "output_type": "stream",
          "name": "stderr",
          "text": [
            " 60%|██████    | 601/1000 [19:45<13:14,  1.99s/it]"
          ]
        },
        {
          "output_type": "stream",
          "name": "stdout",
          "text": [
            "Epoch:601, Loss:175125888.0000\n"
          ]
        },
        {
          "output_type": "stream",
          "name": "stderr",
          "text": [
            " 61%|██████    | 611/1000 [20:04<12:49,  1.98s/it]"
          ]
        },
        {
          "output_type": "stream",
          "name": "stdout",
          "text": [
            "Epoch:611, Loss:174799712.0000\n"
          ]
        },
        {
          "output_type": "stream",
          "name": "stderr",
          "text": [
            " 62%|██████▏   | 621/1000 [20:24<12:33,  1.99s/it]"
          ]
        },
        {
          "output_type": "stream",
          "name": "stdout",
          "text": [
            "Epoch:621, Loss:174467408.0000\n"
          ]
        },
        {
          "output_type": "stream",
          "name": "stderr",
          "text": [
            " 63%|██████▎   | 631/1000 [20:44<12:18,  2.00s/it]"
          ]
        },
        {
          "output_type": "stream",
          "name": "stdout",
          "text": [
            "Epoch:631, Loss:174127920.0000\n"
          ]
        },
        {
          "output_type": "stream",
          "name": "stderr",
          "text": [
            " 64%|██████▍   | 641/1000 [21:04<11:55,  1.99s/it]"
          ]
        },
        {
          "output_type": "stream",
          "name": "stdout",
          "text": [
            "Epoch:641, Loss:173780896.0000\n"
          ]
        },
        {
          "output_type": "stream",
          "name": "stderr",
          "text": [
            " 65%|██████▌   | 651/1000 [21:24<11:22,  1.96s/it]"
          ]
        },
        {
          "output_type": "stream",
          "name": "stdout",
          "text": [
            "Epoch:651, Loss:173425264.0000\n"
          ]
        },
        {
          "output_type": "stream",
          "name": "stderr",
          "text": [
            " 66%|██████▌   | 661/1000 [21:43<11:04,  1.96s/it]"
          ]
        },
        {
          "output_type": "stream",
          "name": "stdout",
          "text": [
            "Epoch:661, Loss:173059648.0000\n"
          ]
        },
        {
          "output_type": "stream",
          "name": "stderr",
          "text": [
            " 67%|██████▋   | 671/1000 [22:03<10:43,  1.96s/it]"
          ]
        },
        {
          "output_type": "stream",
          "name": "stdout",
          "text": [
            "Epoch:671, Loss:172682608.0000\n"
          ]
        },
        {
          "output_type": "stream",
          "name": "stderr",
          "text": [
            " 68%|██████▊   | 681/1000 [22:23<10:35,  1.99s/it]"
          ]
        },
        {
          "output_type": "stream",
          "name": "stdout",
          "text": [
            "Epoch:681, Loss:172292560.0000\n"
          ]
        },
        {
          "output_type": "stream",
          "name": "stderr",
          "text": [
            " 69%|██████▉   | 691/1000 [22:42<10:08,  1.97s/it]"
          ]
        },
        {
          "output_type": "stream",
          "name": "stdout",
          "text": [
            "Epoch:691, Loss:171887760.0000\n"
          ]
        },
        {
          "output_type": "stream",
          "name": "stderr",
          "text": [
            " 70%|███████   | 701/1000 [23:02<09:37,  1.93s/it]"
          ]
        },
        {
          "output_type": "stream",
          "name": "stdout",
          "text": [
            "Epoch:701, Loss:171466368.0000\n"
          ]
        },
        {
          "output_type": "stream",
          "name": "stderr",
          "text": [
            " 71%|███████   | 711/1000 [23:22<09:38,  2.00s/it]"
          ]
        },
        {
          "output_type": "stream",
          "name": "stdout",
          "text": [
            "Epoch:711, Loss:171026176.0000\n"
          ]
        },
        {
          "output_type": "stream",
          "name": "stderr",
          "text": [
            " 72%|███████▏  | 721/1000 [23:42<09:19,  2.01s/it]"
          ]
        },
        {
          "output_type": "stream",
          "name": "stdout",
          "text": [
            "Epoch:721, Loss:170565616.0000\n"
          ]
        },
        {
          "output_type": "stream",
          "name": "stderr",
          "text": [
            " 73%|███████▎  | 731/1000 [24:02<08:56,  1.99s/it]"
          ]
        },
        {
          "output_type": "stream",
          "name": "stdout",
          "text": [
            "Epoch:731, Loss:170086224.0000\n"
          ]
        },
        {
          "output_type": "stream",
          "name": "stderr",
          "text": [
            " 74%|███████▍  | 741/1000 [24:21<08:27,  1.96s/it]"
          ]
        },
        {
          "output_type": "stream",
          "name": "stdout",
          "text": [
            "Epoch:741, Loss:169591056.0000\n"
          ]
        },
        {
          "output_type": "stream",
          "name": "stderr",
          "text": [
            " 75%|███████▌  | 751/1000 [24:41<08:17,  2.00s/it]"
          ]
        },
        {
          "output_type": "stream",
          "name": "stdout",
          "text": [
            "Epoch:751, Loss:169083280.0000\n"
          ]
        },
        {
          "output_type": "stream",
          "name": "stderr",
          "text": [
            " 76%|███████▌  | 761/1000 [25:01<07:50,  1.97s/it]"
          ]
        },
        {
          "output_type": "stream",
          "name": "stdout",
          "text": [
            "Epoch:761, Loss:168561344.0000\n"
          ]
        },
        {
          "output_type": "stream",
          "name": "stderr",
          "text": [
            " 77%|███████▋  | 771/1000 [25:20<07:25,  1.95s/it]"
          ]
        },
        {
          "output_type": "stream",
          "name": "stdout",
          "text": [
            "Epoch:771, Loss:168020880.0000\n"
          ]
        },
        {
          "output_type": "stream",
          "name": "stderr",
          "text": [
            " 78%|███████▊  | 781/1000 [25:40<07:11,  1.97s/it]"
          ]
        },
        {
          "output_type": "stream",
          "name": "stdout",
          "text": [
            "Epoch:781, Loss:167461376.0000\n"
          ]
        },
        {
          "output_type": "stream",
          "name": "stderr",
          "text": [
            " 79%|███████▉  | 791/1000 [26:00<06:52,  1.97s/it]"
          ]
        },
        {
          "output_type": "stream",
          "name": "stdout",
          "text": [
            "Epoch:791, Loss:166882624.0000\n"
          ]
        },
        {
          "output_type": "stream",
          "name": "stderr",
          "text": [
            " 80%|████████  | 801/1000 [26:20<06:32,  1.97s/it]"
          ]
        },
        {
          "output_type": "stream",
          "name": "stdout",
          "text": [
            "Epoch:801, Loss:166286288.0000\n"
          ]
        },
        {
          "output_type": "stream",
          "name": "stderr",
          "text": [
            " 81%|████████  | 811/1000 [26:39<06:10,  1.96s/it]"
          ]
        },
        {
          "output_type": "stream",
          "name": "stdout",
          "text": [
            "Epoch:811, Loss:165675600.0000\n"
          ]
        },
        {
          "output_type": "stream",
          "name": "stderr",
          "text": [
            " 82%|████████▏ | 821/1000 [26:59<05:51,  1.96s/it]"
          ]
        },
        {
          "output_type": "stream",
          "name": "stdout",
          "text": [
            "Epoch:821, Loss:165056736.0000\n"
          ]
        },
        {
          "output_type": "stream",
          "name": "stderr",
          "text": [
            " 83%|████████▎ | 831/1000 [27:19<05:32,  1.97s/it]"
          ]
        },
        {
          "output_type": "stream",
          "name": "stdout",
          "text": [
            "Epoch:831, Loss:164438352.0000\n"
          ]
        },
        {
          "output_type": "stream",
          "name": "stderr",
          "text": [
            " 84%|████████▍ | 841/1000 [27:38<05:13,  1.97s/it]"
          ]
        },
        {
          "output_type": "stream",
          "name": "stdout",
          "text": [
            "Epoch:841, Loss:163809200.0000\n"
          ]
        },
        {
          "output_type": "stream",
          "name": "stderr",
          "text": [
            " 85%|████████▌ | 851/1000 [27:58<04:51,  1.96s/it]"
          ]
        },
        {
          "output_type": "stream",
          "name": "stdout",
          "text": [
            "Epoch:851, Loss:163162736.0000\n"
          ]
        },
        {
          "output_type": "stream",
          "name": "stderr",
          "text": [
            " 86%|████████▌ | 861/1000 [28:18<04:33,  1.97s/it]"
          ]
        },
        {
          "output_type": "stream",
          "name": "stdout",
          "text": [
            "Epoch:861, Loss:162474096.0000\n"
          ]
        },
        {
          "output_type": "stream",
          "name": "stderr",
          "text": [
            " 87%|████████▋ | 871/1000 [28:37<04:14,  1.97s/it]"
          ]
        },
        {
          "output_type": "stream",
          "name": "stdout",
          "text": [
            "Epoch:871, Loss:161847696.0000\n"
          ]
        },
        {
          "output_type": "stream",
          "name": "stderr",
          "text": [
            " 88%|████████▊ | 881/1000 [28:57<03:52,  1.96s/it]"
          ]
        },
        {
          "output_type": "stream",
          "name": "stdout",
          "text": [
            "Epoch:881, Loss:161243792.0000\n"
          ]
        },
        {
          "output_type": "stream",
          "name": "stderr",
          "text": [
            " 89%|████████▉ | 891/1000 [29:17<03:32,  1.95s/it]"
          ]
        },
        {
          "output_type": "stream",
          "name": "stdout",
          "text": [
            "Epoch:891, Loss:160653744.0000\n"
          ]
        },
        {
          "output_type": "stream",
          "name": "stderr",
          "text": [
            " 90%|█████████ | 901/1000 [29:36<03:12,  1.95s/it]"
          ]
        },
        {
          "output_type": "stream",
          "name": "stdout",
          "text": [
            "Epoch:901, Loss:160060512.0000\n"
          ]
        },
        {
          "output_type": "stream",
          "name": "stderr",
          "text": [
            " 91%|█████████ | 911/1000 [29:56<02:52,  1.94s/it]"
          ]
        },
        {
          "output_type": "stream",
          "name": "stdout",
          "text": [
            "Epoch:911, Loss:159226592.0000\n"
          ]
        },
        {
          "output_type": "stream",
          "name": "stderr",
          "text": [
            " 92%|█████████▏| 921/1000 [30:15<02:33,  1.94s/it]"
          ]
        },
        {
          "output_type": "stream",
          "name": "stdout",
          "text": [
            "Epoch:921, Loss:158647632.0000\n"
          ]
        },
        {
          "output_type": "stream",
          "name": "stderr",
          "text": [
            " 93%|█████████▎| 931/1000 [30:34<02:12,  1.93s/it]"
          ]
        },
        {
          "output_type": "stream",
          "name": "stdout",
          "text": [
            "Epoch:931, Loss:158020720.0000\n"
          ]
        },
        {
          "output_type": "stream",
          "name": "stderr",
          "text": [
            " 94%|█████████▍| 941/1000 [30:54<01:53,  1.93s/it]"
          ]
        },
        {
          "output_type": "stream",
          "name": "stdout",
          "text": [
            "Epoch:941, Loss:157435840.0000\n"
          ]
        },
        {
          "output_type": "stream",
          "name": "stderr",
          "text": [
            " 95%|█████████▌| 951/1000 [31:13<01:36,  1.96s/it]"
          ]
        },
        {
          "output_type": "stream",
          "name": "stdout",
          "text": [
            "Epoch:951, Loss:156856208.0000\n"
          ]
        },
        {
          "output_type": "stream",
          "name": "stderr",
          "text": [
            " 96%|█████████▌| 961/1000 [31:33<01:16,  1.96s/it]"
          ]
        },
        {
          "output_type": "stream",
          "name": "stdout",
          "text": [
            "Epoch:961, Loss:156282272.0000\n"
          ]
        },
        {
          "output_type": "stream",
          "name": "stderr",
          "text": [
            " 97%|█████████▋| 971/1000 [31:52<00:56,  1.95s/it]"
          ]
        },
        {
          "output_type": "stream",
          "name": "stdout",
          "text": [
            "Epoch:971, Loss:155709872.0000\n"
          ]
        },
        {
          "output_type": "stream",
          "name": "stderr",
          "text": [
            " 98%|█████████▊| 981/1000 [32:12<00:36,  1.93s/it]"
          ]
        },
        {
          "output_type": "stream",
          "name": "stdout",
          "text": [
            "Epoch:981, Loss:155130800.0000\n"
          ]
        },
        {
          "output_type": "stream",
          "name": "stderr",
          "text": [
            " 99%|█████████▉| 991/1000 [32:31<00:17,  1.94s/it]"
          ]
        },
        {
          "output_type": "stream",
          "name": "stdout",
          "text": [
            "Epoch:991, Loss:154540416.0000\n"
          ]
        },
        {
          "output_type": "stream",
          "name": "stderr",
          "text": [
            "100%|██████████| 1000/1000 [32:49<00:00,  1.97s/it]\n"
          ]
        }
      ]
    },
    {
      "cell_type": "code",
      "source": [
        "#simulation.context.setPositions(pdb.positions)\n",
        "\n",
        "print(x0 + model.forward(latentvecs[1]))\n",
        "print(pos_list[1])"
      ],
      "metadata": {
        "colab": {
          "base_uri": "https://localhost:8080/"
        },
        "id": "Sr-lR_bLcQcp",
        "outputId": "2bf5137b-1617-40b1-ebec-ed2e77d29fa2"
      },
      "execution_count": 82,
      "outputs": [
        {
          "output_type": "stream",
          "name": "stdout",
          "text": [
            "tensor([[ 1.2828,  1.4720, -0.1343],\n",
            "        [-0.1165,  1.0385, -0.3758],\n",
            "        [-2.9789, -0.7069,  0.4361],\n",
            "        [ 0.2533, -0.4643, -1.8830],\n",
            "        [ 1.7963,  0.9419,  0.0766],\n",
            "        [-1.6535,  0.0786,  1.1867],\n",
            "        [ 1.4544,  1.3783, -1.8017],\n",
            "        [ 0.9370, -0.8863, -1.0940],\n",
            "        [-0.1158,  0.7550, -1.3872],\n",
            "        [ 4.8465, -0.1158, -3.0337],\n",
            "        [-0.4981, -0.8771, -1.1520],\n",
            "        [ 2.9018,  2.1730, -1.5226],\n",
            "        [ 1.0577, -2.6747, -0.8415],\n",
            "        [ 1.2647,  2.1392,  3.8213],\n",
            "        [ 1.0467,  0.1430, -1.5722],\n",
            "        [-0.1275,  1.4588, -0.1525],\n",
            "        [ 1.6458,  1.9005, -0.0416],\n",
            "        [-0.3307,  2.8152, -0.3248],\n",
            "        [ 1.1337,  0.8964, -1.8116],\n",
            "        [ 0.0209,  1.1647, -1.8872],\n",
            "        [ 3.2607, -2.0948, -1.9099],\n",
            "        [ 1.7667,  7.1177,  0.8426]], dtype=torch.float64,\n",
            "       grad_fn=<AddBackward0>)\n",
            "[[-0.28399953 -0.12669724 -0.23203991]\n",
            " [-0.28301755 -0.11767898 -0.12341804]\n",
            " [-0.24640079 -0.21165304 -0.08207689]\n",
            " [-0.38526371 -0.10298268 -0.08862211]\n",
            " [-0.17477344 -0.01698527 -0.08538211]\n",
            " [-0.11380401  0.04084252 -0.17192259]\n",
            " [-0.14163998 -0.01883546  0.04513358]\n",
            " [-0.20858714 -0.0578467   0.10991938]\n",
            " [-0.03557106  0.05485119  0.10496222]\n",
            " [-0.05135366  0.15376613  0.06197681]\n",
            " [-0.05854761  0.06681183  0.25664294]\n",
            " [-0.02981447 -0.02551867  0.30694738]\n",
            " [-0.0017425   0.15467465  0.28720939]\n",
            " [-0.1643503   0.08791456  0.27218214]\n",
            " [ 0.10751184  0.00266125  0.07135547]\n",
            " [ 0.18890747 -0.01779939  0.16588497]\n",
            " [ 0.13351734 -0.02980753 -0.05433557]\n",
            " [ 0.06237771 -0.01799225 -0.12505016]\n",
            " [ 0.26672125 -0.05923061 -0.10266314]\n",
            " [ 0.33785817  0.01369996 -0.0639118 ]\n",
            " [ 0.30405566 -0.15722832 -0.07293738]\n",
            " [ 0.26400772 -0.06858136 -0.21122743]] nm\n"
          ]
        }
      ]
    }
  ]
}